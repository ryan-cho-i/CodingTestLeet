{
 "cells": [
  {
   "cell_type": "code",
   "execution_count": 22,
   "source": [
    "field = [[0, 0, 0, 0, 0],\n",
    "          [0, 0, 0, 0, 0],\n",
    "          [0, 0, 0, 0, 0],\n",
    "          [1, 1, 0, 1, 0],\n",
    "          [1, 0, 1, 0, 1]]\n",
    "\n",
    "figure = [[1, 1, 1],\n",
    "          [1, 0, 1],\n",
    "          [1, 0, 1]]\n"
   ],
   "outputs": [],
   "metadata": {}
  },
  {
   "cell_type": "code",
   "execution_count": 23,
   "source": [
    "def solution (field, figure):\n",
    "\n",
    "    wid = len(field[0])\n",
    "    hei = len(field)\n",
    "\n",
    "    for col in range(wid-2):\n",
    "        row = 0 \n",
    "        while row + 2 < hei :\n",
    "            fit = True \n",
    "            for dx in range(3):\n",
    "                for dy in range(3):\n",
    "                    if field [row+dx][col+dy] == 1 and figure [dx][dy] == 1 :\n",
    "                        fit = False\n",
    "                        break \n",
    "            if not fit :\n",
    "                break\n",
    "            row += 1 \n",
    "        row -= 1 \n",
    "\n",
    "        print(row, col)\n",
    "\n",
    "        for r in range(row, row+3):\n",
    "            filled = True \n",
    "            for c in range(wid):\n",
    "                if not (field[r][c] == 1 or (col <= c < col+3 and figure[r-row][c-col] == 1)) :\n",
    "                    filled = False\n",
    "                    break \n",
    "            if filled :\n",
    "                return col \n",
    "    \n",
    "    return -1 \n",
    "\n"
   ],
   "outputs": [],
   "metadata": {}
  },
  {
   "cell_type": "code",
   "execution_count": 24,
   "source": [
    "solution (field, figure)"
   ],
   "outputs": [
    {
     "output_type": "stream",
     "name": "stdout",
     "text": [
      "0 0\n",
      "0 1\n",
      "1 2\n"
     ]
    },
    {
     "output_type": "execute_result",
     "data": {
      "text/plain": [
       "2"
      ]
     },
     "metadata": {},
     "execution_count": 24
    }
   ],
   "metadata": {}
  },
  {
   "cell_type": "code",
   "execution_count": null,
   "source": [],
   "outputs": [],
   "metadata": {}
  }
 ],
 "metadata": {
  "orig_nbformat": 4,
  "language_info": {
   "name": "python",
   "version": "3.10.6",
   "mimetype": "text/x-python",
   "codemirror_mode": {
    "name": "ipython",
    "version": 3
   },
   "pygments_lexer": "ipython3",
   "nbconvert_exporter": "python",
   "file_extension": ".py"
  },
  "kernelspec": {
   "name": "python3",
   "display_name": "Python 3.10.6 64-bit"
  },
  "interpreter": {
   "hash": "aee8b7b246df8f9039afb4144a1f6fd8d2ca17a180786b69acc140d282b71a49"
  }
 },
 "nbformat": 4,
 "nbformat_minor": 2
}