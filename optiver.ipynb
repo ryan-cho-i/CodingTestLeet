{
 "cells": [
  {
   "cell_type": "code",
   "execution_count": 45,
   "source": [
    "# Final\n",
    "\n",
    "class Node:\n",
    "    def __init__(self, val=None):\n",
    "        self.val = val\n",
    "        self.left = None\n",
    "        self.right = None\n",
    "        self.parent = None\n",
    "\n",
    "from string import ascii_uppercase\n",
    "\n",
    "def main(inStr):\n",
    "\n",
    "    # inStr = '(A,B) (A,C) (B,D) (C,D)'\n",
    "    uppercase = set(ascii_uppercase)\n",
    "\n",
    "    tree = {}\n",
    "    children = {}\n",
    "    parents = {}\n",
    "\n",
    "    error = 'E6'\n",
    "    i = 0 \n",
    "    while i < len(inStr):\n",
    "        if (inStr[i] == '(') and (inStr[i+1] in uppercase) and (inStr[i+2] == ',') and (inStr[i+3] in uppercase) and (inStr[i+4] == ')') :\n",
    "            \n",
    "            parent = inStr[i+1] \n",
    "            child = inStr[i+3]\n",
    "\n",
    "            if not tree.get(parent, False): \n",
    "                tree[parent] = Node(parent)\n",
    "            \n",
    "            if not tree.get(child, False):\n",
    "                tree[child] = Node(child)\n",
    "            \n",
    "            # For detecting E2 \n",
    "\n",
    "            if child in children.setdefault(parent, set()) :\n",
    "                error = min(error, 'E2')\n",
    "            else:\n",
    "                children[parent].add(child)\n",
    "            \n",
    "            # For detecting E3 \n",
    "\n",
    "            if len(children[parent]) > 2:\n",
    "                error = min(error, 'E3')\n",
    "\n",
    "            # For detecting E4 and E5 \n",
    "\n",
    "            parents.setdefault(child, set()).add(parent)\n",
    "\n",
    "            # Implement\n",
    "\n",
    "            if tree[parent].left :\n",
    "                if not tree[parent].right :\n",
    "                    tree[parent].right = tree[child] \n",
    "                    tree[child].parent = tree[parent]\n",
    "            else:\n",
    "                tree[parent].left = tree[child] \n",
    "                tree[child].parent = tree[parent]\n",
    "\n",
    "            i += 6\n",
    "\n",
    "        else: \n",
    "            print('E1')\n",
    "            return\n",
    "    \n",
    "    # For detecting E4 and E5\n",
    "\n",
    "    root = tree[inStr[1]]\n",
    "    while root.parent:\n",
    "        root = root.parent\n",
    "\n",
    "    for child, parentList in parents.items():\n",
    "        \n",
    "        if len(parentList) > 1:\n",
    "            error = min(error, 'E5')\n",
    "\n",
    "        for par in parentList:\n",
    "            Par = par \n",
    "            while len(parents.get(Par, [])) < 2:\n",
    "                if not parents.get(Par, False):\n",
    "                    if root.val != Par :\n",
    "                        error = min(error, 'E4')\n",
    "                    break\n",
    "                Par = list(parents[Par])[0]\n",
    "        if error <= 'E4' :\n",
    "            break\n",
    "\n",
    "    # Print Error\n",
    "\n",
    "    if error != 'E6':\n",
    "        print(error)\n",
    "        return\n",
    "\n",
    "    # Print\n",
    "\n",
    "    def s_exp(node):\n",
    "    \n",
    "        if node == None:\n",
    "            return \"\"\n",
    "            \n",
    "        return \"(\"+node.val+s_exp(node.left)+s_exp(node.right)+\")\"\n",
    "    \n",
    "    print(s_exp(tree[root.val]))\n",
    "    return "
   ],
   "outputs": [],
   "metadata": {}
  },
  {
   "cell_type": "code",
   "execution_count": 46,
   "source": [
    "main('(A,B) (A,C) (B,D) (D,C) ()')"
   ],
   "outputs": [
    {
     "output_type": "stream",
     "name": "stdout",
     "text": [
      "E1\n"
     ]
    }
   ],
   "metadata": {}
  },
  {
   "cell_type": "code",
   "execution_count": 47,
   "source": [
    "main('(A,B) (A,C) (A,D) (A,B)')"
   ],
   "outputs": [
    {
     "output_type": "stream",
     "name": "stdout",
     "text": [
      "E2\n"
     ]
    }
   ],
   "metadata": {}
  },
  {
   "cell_type": "code",
   "execution_count": 48,
   "source": [
    "main('(A,B) (A,C) (A,D) (D,C)')"
   ],
   "outputs": [
    {
     "output_type": "stream",
     "name": "stdout",
     "text": [
      "E3\n"
     ]
    }
   ],
   "metadata": {}
  },
  {
   "cell_type": "code",
   "execution_count": 49,
   "source": [
    "main('(A,B) (A,C) (A,D) (E,C)')"
   ],
   "outputs": [
    {
     "output_type": "stream",
     "name": "stdout",
     "text": [
      "E3\n"
     ]
    }
   ],
   "metadata": {}
  },
  {
   "cell_type": "code",
   "execution_count": 50,
   "source": [
    "main('(A,B) (A,C) (E,Q)')"
   ],
   "outputs": [
    {
     "output_type": "stream",
     "name": "stdout",
     "text": [
      "E4\n"
     ]
    }
   ],
   "metadata": {}
  },
  {
   "cell_type": "code",
   "execution_count": 52,
   "source": [
    "main('(A,B) (A,C) (B,D) (D,C)')"
   ],
   "outputs": [
    {
     "output_type": "stream",
     "name": "stdout",
     "text": [
      "E5\n"
     ]
    }
   ],
   "metadata": {}
  },
  {
   "cell_type": "code",
   "execution_count": 53,
   "source": [
    "main('(A,B) (A,C) (B,D) (C,D) (E,C)')"
   ],
   "outputs": [
    {
     "output_type": "stream",
     "name": "stdout",
     "text": [
      "E4\n"
     ]
    }
   ],
   "metadata": {}
  },
  {
   "cell_type": "code",
   "execution_count": 54,
   "source": [
    "main('(A,B) (A,C) (B,D) (C,D)')"
   ],
   "outputs": [
    {
     "output_type": "stream",
     "name": "stdout",
     "text": [
      "E5\n"
     ]
    }
   ],
   "metadata": {}
  }
 ],
 "metadata": {
  "orig_nbformat": 4,
  "language_info": {
   "name": "python",
   "version": "3.10.6",
   "mimetype": "text/x-python",
   "codemirror_mode": {
    "name": "ipython",
    "version": 3
   },
   "pygments_lexer": "ipython3",
   "nbconvert_exporter": "python",
   "file_extension": ".py"
  },
  "kernelspec": {
   "name": "python3",
   "display_name": "Python 3.10.6 64-bit"
  },
  "interpreter": {
   "hash": "aee8b7b246df8f9039afb4144a1f6fd8d2ca17a180786b69acc140d282b71a49"
  }
 },
 "nbformat": 4,
 "nbformat_minor": 2
}