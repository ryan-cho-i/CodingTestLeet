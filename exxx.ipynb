{
 "cells": [
  {
   "cell_type": "code",
   "execution_count": 1,
   "source": [
    "document = \"Practice makes perfect. you'll only get Perfect by practice. just practice!\""
   ],
   "outputs": [],
   "metadata": {}
  },
  {
   "cell_type": "code",
   "execution_count": 3,
   "source": [
    "from string import ascii_lowercase, ascii_uppercase\n",
    "\n",
    "upper = {}\n",
    "for idx, char in enumerate(ascii_uppercase):\n",
    "    upper[char] = idx  \n",
    "  "
   ],
   "outputs": [],
   "metadata": {}
  },
  {
   "cell_type": "code",
   "execution_count": 8,
   "source": [
    "\n",
    "seen = {}\n",
    "tmp = []\n",
    "for char in document :\n",
    "    if char != \" \":\n",
    "        if char in upper :\n",
    "            tmp.append(ascii_lowercase[upper[char]])\n",
    "        else:\n",
    "            print (tmp, char)\n",
    "            tmp.append(char)\n",
    "    else:\n",
    "        tmp = ''.join(tmp)\n",
    "        seen[tmp] = seen.get(tmp, 0) + 1 \n",
    "        print(seen)\n",
    "        tmp = []\n",
    "        \n"
   ],
   "outputs": [
    {
     "output_type": "stream",
     "name": "stdout",
     "text": [
      "['p'] r\n",
      "['p', 'r'] a\n",
      "['p', 'r', 'a'] c\n",
      "['p', 'r', 'a', 'c'] t\n",
      "['p', 'r', 'a', 'c', 't'] i\n",
      "['p', 'r', 'a', 'c', 't', 'i'] c\n",
      "['p', 'r', 'a', 'c', 't', 'i', 'c'] e\n",
      "{'practice': 1}\n",
      "[] m\n",
      "['m'] a\n",
      "['m', 'a'] k\n",
      "['m', 'a', 'k'] e\n",
      "['m', 'a', 'k', 'e'] s\n",
      "{'practice': 1, 'makes': 1}\n",
      "[] p\n",
      "['p'] e\n",
      "['p', 'e'] r\n",
      "['p', 'e', 'r'] f\n",
      "['p', 'e', 'r', 'f'] e\n",
      "['p', 'e', 'r', 'f', 'e'] c\n",
      "['p', 'e', 'r', 'f', 'e', 'c'] t\n",
      "['p', 'e', 'r', 'f', 'e', 'c', 't'] .\n",
      "{'practice': 1, 'makes': 1, 'perfect.': 1}\n",
      "[] y\n",
      "['y'] o\n",
      "['y', 'o'] u\n",
      "['y', 'o', 'u'] '\n",
      "['y', 'o', 'u', \"'\"] l\n",
      "['y', 'o', 'u', \"'\", 'l'] l\n",
      "{'practice': 1, 'makes': 1, 'perfect.': 1, \"you'll\": 1}\n",
      "[] o\n",
      "['o'] n\n",
      "['o', 'n'] l\n",
      "['o', 'n', 'l'] y\n",
      "{'practice': 1, 'makes': 1, 'perfect.': 1, \"you'll\": 1, 'only': 1}\n",
      "[] g\n",
      "['g'] e\n",
      "['g', 'e'] t\n",
      "{'practice': 1, 'makes': 1, 'perfect.': 1, \"you'll\": 1, 'only': 1, 'get': 1}\n",
      "['p'] e\n",
      "['p', 'e'] r\n",
      "['p', 'e', 'r'] f\n",
      "['p', 'e', 'r', 'f'] e\n",
      "['p', 'e', 'r', 'f', 'e'] c\n",
      "['p', 'e', 'r', 'f', 'e', 'c'] t\n",
      "{'practice': 1, 'makes': 1, 'perfect.': 1, \"you'll\": 1, 'only': 1, 'get': 1, 'perfect': 1}\n",
      "[] b\n",
      "['b'] y\n",
      "{'practice': 1, 'makes': 1, 'perfect.': 1, \"you'll\": 1, 'only': 1, 'get': 1, 'perfect': 1, 'by': 1}\n",
      "[] p\n",
      "['p'] r\n",
      "['p', 'r'] a\n",
      "['p', 'r', 'a'] c\n",
      "['p', 'r', 'a', 'c'] t\n",
      "['p', 'r', 'a', 'c', 't'] i\n",
      "['p', 'r', 'a', 'c', 't', 'i'] c\n",
      "['p', 'r', 'a', 'c', 't', 'i', 'c'] e\n",
      "['p', 'r', 'a', 'c', 't', 'i', 'c', 'e'] .\n",
      "{'practice': 1, 'makes': 1, 'perfect.': 1, \"you'll\": 1, 'only': 1, 'get': 1, 'perfect': 1, 'by': 1, 'practice.': 1}\n",
      "[] j\n",
      "['j'] u\n",
      "['j', 'u'] s\n",
      "['j', 'u', 's'] t\n",
      "{'practice': 1, 'makes': 1, 'perfect.': 1, \"you'll\": 1, 'only': 1, 'get': 1, 'perfect': 1, 'by': 1, 'practice.': 1, 'just': 1}\n",
      "[] p\n",
      "['p'] r\n",
      "['p', 'r'] a\n",
      "['p', 'r', 'a'] c\n",
      "['p', 'r', 'a', 'c'] t\n",
      "['p', 'r', 'a', 'c', 't'] i\n",
      "['p', 'r', 'a', 'c', 't', 'i'] c\n",
      "['p', 'r', 'a', 'c', 't', 'i', 'c'] e\n",
      "['p', 'r', 'a', 'c', 't', 'i', 'c', 'e'] !\n"
     ]
    }
   ],
   "metadata": {}
  },
  {
   "cell_type": "code",
   "execution_count": 54,
   "source": [
    "from string import ascii_lowercase, ascii_uppercase\n",
    "\n",
    "def word_count_engine(document):\n",
    "  \n",
    "  upper = {}\n",
    "  for idx, char in enumerate(ascii_uppercase):\n",
    "    upper[char] = idx  \n",
    "    \n",
    "  lower = set(ascii_lowercase)\n",
    "  \n",
    "  order = {}\n",
    "  seen = {}\n",
    "  tmp = []\n",
    "  cnt = len(document)\n",
    "  for idx, char in enumerate(document) :\n",
    "    \n",
    "    if char != \" \":\n",
    "      if char in upper :\n",
    "        tmp.append(ascii_lowercase[upper[char]])\n",
    "      else:\n",
    "        if char in lower :\n",
    "          tmp.append(char)    \n",
    "      if idx == len(document)-1:\n",
    "        tmp = ''.join(tmp)\n",
    "        if not (seen.get(tmp, False)):        \n",
    "          order[tmp] = cnt \n",
    "        seen[tmp] = seen.get(tmp, 0) + 1    \n",
    "\n",
    "    else:\n",
    "      tmp = ''.join(tmp)\n",
    "      if not (seen.get(tmp, False)):\n",
    "        order[tmp] = cnt \n",
    "      seen[tmp] = seen.get(tmp, 0) + 1\n",
    "      cnt -= 1 \n",
    "      tmp = []\n",
    "      \n",
    "  res = []\n",
    "  for key, value in seen.items():\n",
    "    res.append([key, str(value)])\n",
    "  \n",
    "  res = sorted(res, key = lambda element: (element[1], order[element[0]]), reverse = True)\n",
    "   \n",
    "  return res \n",
    "\n",
    "\n",
    "  \n",
    "\n",
    "\n"
   ],
   "outputs": [],
   "metadata": {}
  },
  {
   "cell_type": "code",
   "execution_count": 11,
   "source": [
    "\n",
    "\n",
    "document = \"Every book is a quotation; and every house is a quotation out of all forests, and mines, and stone quarries; and every man is a quotation from all his ancestors. \"\n",
    "word_count_engine(document)\n",
    "\n",
    "\n",
    "  "
   ],
   "outputs": [
    {
     "output_type": "error",
     "ename": "NameError",
     "evalue": "name 'word_count_engine' is not defined",
     "traceback": [
      "\u001b[0;31m---------------------------------------------------------------------------\u001b[0m",
      "\u001b[0;31mNameError\u001b[0m                                 Traceback (most recent call last)",
      "Input \u001b[0;32mIn [11]\u001b[0m, in \u001b[0;36m<cell line: 2>\u001b[0;34m()\u001b[0m\n\u001b[1;32m      1\u001b[0m document \u001b[38;5;241m=\u001b[39m \u001b[38;5;124m\"\u001b[39m\u001b[38;5;124mEvery book is a quotation; and every house is a quotation out of all forests, and mines, and stone quarries; and every man is a quotation from all his ancestors. \u001b[39m\u001b[38;5;124m\"\u001b[39m\n\u001b[0;32m----> 2\u001b[0m \u001b[43mword_count_engine\u001b[49m(document)\n",
      "\u001b[0;31mNameError\u001b[0m: name 'word_count_engine' is not defined"
     ]
    }
   ],
   "metadata": {}
  },
  {
   "cell_type": "code",
   "execution_count": 1,
   "source": [
    "documents = \"Practice makes perfect. you'll only get Perfect by practice. just practice!\""
   ],
   "outputs": [],
   "metadata": {}
  },
  {
   "cell_type": "code",
   "execution_count": 12,
   "source": [
    "from string import ascii_lowercase\n",
    "\n",
    "lower = set(ascii_lowercase)\n",
    "\n",
    "documents = documents.lower()\n",
    "\n",
    "for c in documents:\n",
    "    if c == \" \":\n",
    "        continue\n",
    "    elif c not in lower:\n",
    "        documents=documents.replace(c, \"\")\n",
    "    \n",
    "      "
   ],
   "outputs": [],
   "metadata": {}
  },
  {
   "cell_type": "code",
   "execution_count": 13,
   "source": [
    "documents"
   ],
   "outputs": [
    {
     "output_type": "execute_result",
     "data": {
      "text/plain": [
       "'practicemakesperfectyoullonlygetperfectbypracticejustpractice'"
      ]
     },
     "metadata": {},
     "execution_count": 13
    }
   ],
   "metadata": {}
  },
  {
   "cell_type": "code",
   "execution_count": null,
   "source": [],
   "outputs": [],
   "metadata": {}
  }
 ],
 "metadata": {
  "orig_nbformat": 4,
  "language_info": {
   "name": "python",
   "version": "3.10.6",
   "mimetype": "text/x-python",
   "codemirror_mode": {
    "name": "ipython",
    "version": 3
   },
   "pygments_lexer": "ipython3",
   "nbconvert_exporter": "python",
   "file_extension": ".py"
  },
  "kernelspec": {
   "name": "python3",
   "display_name": "Python 3.10.6 64-bit"
  },
  "interpreter": {
   "hash": "aee8b7b246df8f9039afb4144a1f6fd8d2ca17a180786b69acc140d282b71a49"
  }
 },
 "nbformat": 4,
 "nbformat_minor": 2
}