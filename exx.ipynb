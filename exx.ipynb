{
 "cells": [
  {
   "cell_type": "code",
   "execution_count": 8,
   "source": [
    "class Node:\n",
    "    def __init__(self, val=None):\n",
    "        self.val = val\n",
    "        self.left = None\n",
    "        self.right = None\n",
    "        self.parent = None"
   ],
   "outputs": [],
   "metadata": {}
  },
  {
   "cell_type": "code",
   "execution_count": 63,
   "source": [
    "from string import ascii_uppercase\n",
    "\n",
    "def solve(inStr):\n",
    "\n",
    "    # inStr = input()\n",
    "    uppercase = set(ascii_uppercase)\n",
    "    node = set()\n",
    "    tree = {}\n",
    "    connection = {}\n",
    "\n",
    "    def find (a):\n",
    "        if connection[a] != a:\n",
    "            connection[a] = find(connection[a])\n",
    "        return connection[a]\n",
    "\n",
    "    def union (a, b):\n",
    "        print(connection)\n",
    "        x = find (a)\n",
    "        y = find (b)\n",
    "        print(x,y)\n",
    "        if x > y :\n",
    "            print(connection[x], y)\n",
    "            connection[x] = y\n",
    "        elif x < y:\n",
    "            connection[y] = x                \n",
    "        else :\n",
    "            return False\n",
    "        return True\n",
    "\n",
    "    error = 'E6'\n",
    "    i = 0 \n",
    "    while i < len(inStr):\n",
    "        if (inStr[i] == '(') and (inStr[i+1] in uppercase) and (inStr[i+2] == ',') and (inStr[i+3] in uppercase) and (inStr[i+4] == ')') :\n",
    "            \n",
    "            parent = inStr[i+1] \n",
    "            if not connection.get(parent, False):\n",
    "                connection[parent] = parent\n",
    "            node.add(parent)\n",
    "            child = inStr[i+3]\n",
    "            if not connection.get(child, False):\n",
    "                connection[child] = parent\n",
    "            node.add(child)\n",
    "\n",
    "            if child in tree.setdefault(parent, set()) :\n",
    "                error = min(error, 'E2')\n",
    "            else:\n",
    "                tree.setdefault(parent, set()).add(child)\n",
    "            \n",
    "            if len(tree[parent]) > 2:\n",
    "                error = min(error, 'E3')\n",
    "\n",
    "            if not union(parent, child):\n",
    "                error = min(error, 'E5')\n",
    "\n",
    "            i += 5\n",
    "\n",
    "        else: \n",
    "            return 'E1'\n",
    "\n",
    "    root = False \n",
    "    for n in node:\n",
    "        if root :\n",
    "            if root != find(n) :\n",
    "                print(connection)\n",
    "                error = min(error, 'E4')\n",
    "        else:\n",
    "            root = find(n)\n",
    "\n",
    "    if error != 'E6':\n",
    "        return error\n",
    "    \n",
    "    "
   ],
   "outputs": [],
   "metadata": {}
  },
  {
   "cell_type": "code",
   "execution_count": 64,
   "source": [
    "solve('(A,B)(A,C)(B,D)(D,C)()')"
   ],
   "outputs": [
    {
     "output_type": "stream",
     "name": "stdout",
     "text": [
      "{'A': 'A', 'B': 'A'}\n",
      "A A\n",
      "{'A': 'A', 'B': 'A', 'C': 'A'}\n",
      "A A\n",
      "{'A': 'A', 'B': 'A', 'C': 'A', 'D': 'B'}\n",
      "A A\n",
      "{'A': 'A', 'B': 'A', 'C': 'A', 'D': 'A'}\n",
      "A A\n"
     ]
    },
    {
     "output_type": "execute_result",
     "data": {
      "text/plain": [
       "'E1'"
      ]
     },
     "metadata": {},
     "execution_count": 64
    }
   ],
   "metadata": {}
  },
  {
   "cell_type": "code",
   "execution_count": 65,
   "source": [
    "solve('(A,B)(A,C)(A,D)(A,B)')"
   ],
   "outputs": [
    {
     "output_type": "stream",
     "name": "stdout",
     "text": [
      "{'A': 'A', 'B': 'A'}\n",
      "A A\n",
      "{'A': 'A', 'B': 'A', 'C': 'A'}\n",
      "A A\n",
      "{'A': 'A', 'B': 'A', 'C': 'A', 'D': 'A'}\n",
      "A A\n",
      "{'A': 'A', 'B': 'A', 'C': 'A', 'D': 'A'}\n",
      "A A\n"
     ]
    },
    {
     "output_type": "execute_result",
     "data": {
      "text/plain": [
       "'E2'"
      ]
     },
     "metadata": {},
     "execution_count": 65
    }
   ],
   "metadata": {}
  },
  {
   "cell_type": "code",
   "execution_count": 66,
   "source": [
    "solve('(A,B)(A,C)(A,D)(D,C)')"
   ],
   "outputs": [
    {
     "output_type": "stream",
     "name": "stdout",
     "text": [
      "{'A': 'A', 'B': 'A'}\n",
      "A A\n",
      "{'A': 'A', 'B': 'A', 'C': 'A'}\n",
      "A A\n",
      "{'A': 'A', 'B': 'A', 'C': 'A', 'D': 'A'}\n",
      "A A\n",
      "{'A': 'A', 'B': 'A', 'C': 'A', 'D': 'A'}\n",
      "A A\n"
     ]
    },
    {
     "output_type": "execute_result",
     "data": {
      "text/plain": [
       "'E3'"
      ]
     },
     "metadata": {},
     "execution_count": 66
    }
   ],
   "metadata": {}
  },
  {
   "cell_type": "code",
   "execution_count": 67,
   "source": [
    "solve('(A,B)(A,C)(A,D)(E,C)')"
   ],
   "outputs": [
    {
     "output_type": "stream",
     "name": "stdout",
     "text": [
      "{'A': 'A', 'B': 'A'}\n",
      "A A\n",
      "{'A': 'A', 'B': 'A', 'C': 'A'}\n",
      "A A\n",
      "{'A': 'A', 'B': 'A', 'C': 'A', 'D': 'A'}\n",
      "A A\n",
      "{'A': 'A', 'B': 'A', 'C': 'A', 'D': 'A', 'E': 'E'}\n",
      "E A\n",
      "E A\n"
     ]
    },
    {
     "output_type": "execute_result",
     "data": {
      "text/plain": [
       "'E3'"
      ]
     },
     "metadata": {},
     "execution_count": 67
    }
   ],
   "metadata": {}
  },
  {
   "cell_type": "code",
   "execution_count": 62,
   "source": [
    "solve('(A,B)(A,C)(E,Q)')"
   ],
   "outputs": [
    {
     "output_type": "stream",
     "name": "stdout",
     "text": [
      "{'A': 'A', 'B': 'A'}\n",
      "A A\n",
      "{'A': 'A', 'B': 'A', 'C': 'A'}\n",
      "A A\n",
      "{'A': 'A', 'B': 'A', 'C': 'A', 'E': 'E', 'Q': 'E'}\n",
      "E E\n",
      "{'A': 'A', 'B': 'A', 'C': 'A', 'E': 'E', 'Q': 'E'}\n",
      "{'A': 'A', 'B': 'A', 'C': 'A', 'E': 'E', 'Q': 'E'}\n",
      "{'A': 'A', 'B': 'A', 'C': 'A', 'E': 'E', 'Q': 'E'}\n"
     ]
    },
    {
     "output_type": "execute_result",
     "data": {
      "text/plain": [
       "'E4'"
      ]
     },
     "metadata": {},
     "execution_count": 62
    }
   ],
   "metadata": {}
  },
  {
   "cell_type": "code",
   "execution_count": 51,
   "source": [
    "solve('(A,B)(A,C)(B,D)(D,C)')"
   ],
   "outputs": [
    {
     "output_type": "stream",
     "name": "stdout",
     "text": [
      "{'A': 'A', 'B': 'A'}\n",
      "{'A': 'A', 'B': 'A', 'C': 'A'}\n",
      "{'A': 'A', 'B': 'A', 'C': 'A', 'D': 'B'}\n",
      "{'A': 'A', 'B': 'A', 'C': 'A', 'D': 'A'}\n"
     ]
    },
    {
     "output_type": "execute_result",
     "data": {
      "text/plain": [
       "'E5'"
      ]
     },
     "metadata": {},
     "execution_count": 51
    }
   ],
   "metadata": {}
  },
  {
   "cell_type": "code",
   "execution_count": 40,
   "source": [
    "seem = {'A': 'A', 'B': 'A', 'C': 'A', 'D': 'A', 'E': 'E'}"
   ],
   "outputs": [],
   "metadata": {}
  },
  {
   "cell_type": "code",
   "execution_count": 41,
   "source": [
    "seem['E'] = 'e'"
   ],
   "outputs": [],
   "metadata": {}
  },
  {
   "cell_type": "code",
   "execution_count": 42,
   "source": [
    "seem"
   ],
   "outputs": [
    {
     "output_type": "execute_result",
     "data": {
      "text/plain": [
       "{'A': 'A', 'B': 'A', 'C': 'A', 'D': 'A', 'E': 'e'}"
      ]
     },
     "metadata": {},
     "execution_count": 42
    }
   ],
   "metadata": {}
  },
  {
   "cell_type": "code",
   "execution_count": null,
   "source": [],
   "outputs": [],
   "metadata": {}
  }
 ],
 "metadata": {
  "orig_nbformat": 4,
  "language_info": {
   "name": "python",
   "version": "3.10.6",
   "mimetype": "text/x-python",
   "codemirror_mode": {
    "name": "ipython",
    "version": 3
   },
   "pygments_lexer": "ipython3",
   "nbconvert_exporter": "python",
   "file_extension": ".py"
  },
  "kernelspec": {
   "name": "python3",
   "display_name": "Python 3.10.6 64-bit"
  },
  "interpreter": {
   "hash": "aee8b7b246df8f9039afb4144a1f6fd8d2ca17a180786b69acc140d282b71a49"
  }
 },
 "nbformat": 4,
 "nbformat_minor": 2
}