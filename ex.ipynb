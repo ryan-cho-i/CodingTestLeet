{
 "cells": [
  {
   "cell_type": "code",
   "execution_count": 1,
   "source": [
    "s = \"wvtjiwbftzchwsnxkqtuykvunmsddpnnbortmenayrgglcmvieqvybuibkikhwlveafjscdyzhopflyhzxtbwqiahgptmhbiimksazuulkcahmgzauuyggrhpnfwmwgblcwpanceziqrbxokjmtijpaluqcgelg\""
   ],
   "outputs": [],
   "metadata": {}
  },
  {
   "cell_type": "code",
   "execution_count": 8,
   "source": [
    "n = len(s)\n",
    "\n",
    "dp = [[[0, 'A'] for _ in range(n)] for _ in range(n)]\n",
    "        \n",
    "ans = 0\n",
    "for end in range(n):\n",
    "    for start in reversed(range(0, end)):\n",
    "        cnt, letter = dp[start+1][end-1]\n",
    "        if s[start] == s[end] :\n",
    "            if s[start] != letter :\n",
    "                dp[start][end] = [cnt+2, s[start]]\n",
    "                ans = max(ans, cnt+2)\n",
    "            else:\n",
    "                if s[start] == 'A':\n",
    "                    dp[start][end] = [cnt+2, s[start]]\n",
    "                    ans = max(ans, cnt+2)\n",
    "                else:\n",
    "                    dp[start][end] = dp[start+1][end-1]\n",
    "        else : \n",
    "            if dp[start+1][end][0] > dp[start][end-1][0]:\n",
    "                dp[start][end] = dp[start+1][end]\n",
    "            elif dp[start+1][end][0] == dp[start][end-1][0]:\n",
    "                if dp[start+1][end][1] != dp[start][end-1][1]:\n",
    "                    dp[start][end] = [dp[start+1][end][0], 'A']\n",
    "                else:\n",
    "                    if dp[start+1][end][1] == 'A':\n",
    "                        dp[start][end] = [dp[start+1][end][0], 'A']\n",
    "                    else: \n",
    "                        dp[start][end] = dp[start+1][end]\n",
    "            else :\n",
    "                dp[start][end] = dp[start][end-1]\n"
   ],
   "outputs": [],
   "metadata": {}
  },
  {
   "cell_type": "code",
   "execution_count": 9,
   "source": [
    "for end in range(n):\n",
    "    for start in reversed(range(0, end)):\n",
    "        if start < end:\n",
    "            if dp[start][end][0] < dp[start+1][end][0]:\n",
    "                print(s[start+1:end+1], dp[start+1][end])\n",
    "                print(s[start:end+1], dp[start][end])"
   ],
   "outputs": [],
   "metadata": {}
  },
  {
   "cell_type": "code",
   "execution_count": 10,
   "source": [
    "ans"
   ],
   "outputs": [
    {
     "output_type": "execute_result",
     "data": {
      "text/plain": [
       "44"
      ]
     },
     "metadata": {},
     "execution_count": 10
    }
   ],
   "metadata": {}
  },
  {
   "cell_type": "code",
   "execution_count": 11,
   "source": [
    "from heapq import *"
   ],
   "outputs": [],
   "metadata": {}
  },
  {
   "cell_type": "code",
   "execution_count": 12,
   "source": [
    "heap = []\n",
    "heappush(heap, 1)\n",
    "heappush(heap, 2)"
   ],
   "outputs": [],
   "metadata": {}
  },
  {
   "cell_type": "code",
   "execution_count": 13,
   "source": [
    "heap"
   ],
   "outputs": [
    {
     "output_type": "execute_result",
     "data": {
      "text/plain": [
       "[1, 2]"
      ]
     },
     "metadata": {},
     "execution_count": 13
    }
   ],
   "metadata": {}
  },
  {
   "cell_type": "code",
   "execution_count": 15,
   "source": [
    "heappush(heap, [1, 'a'])"
   ],
   "outputs": [
    {
     "output_type": "error",
     "ename": "TypeError",
     "evalue": "'<' not supported between instances of 'list' and 'int'",
     "traceback": [
      "\u001b[0;31m---------------------------------------------------------------------------\u001b[0m",
      "\u001b[0;31mTypeError\u001b[0m                                 Traceback (most recent call last)",
      "\u001b[0;32m/var/folders/xk/hrw3wy1n61lf4xdzyjbzjtj00000gn/T/ipykernel_11411/416898083.py\u001b[0m in \u001b[0;36m<module>\u001b[0;34m\u001b[0m\n\u001b[0;32m----> 1\u001b[0;31m \u001b[0mheappush\u001b[0m\u001b[0;34m(\u001b[0m\u001b[0mheap\u001b[0m\u001b[0;34m,\u001b[0m \u001b[0;34m[\u001b[0m\u001b[0;36m1\u001b[0m\u001b[0;34m,\u001b[0m \u001b[0;34m'a'\u001b[0m\u001b[0;34m]\u001b[0m\u001b[0;34m)\u001b[0m\u001b[0;34m\u001b[0m\u001b[0;34m\u001b[0m\u001b[0m\n\u001b[0m",
      "\u001b[0;31mTypeError\u001b[0m: '<' not supported between instances of 'list' and 'int'"
     ]
    }
   ],
   "metadata": {}
  },
  {
   "cell_type": "code",
   "execution_count": 30,
   "source": [
    "class LargeNode:\n",
    "    \n",
    "    def __init__ (self, name, score):\n",
    "        self.name = name\n",
    "        self.score = score\n",
    "        \n",
    "    def __lt__ (self, other):\n",
    "        return (self.score < other.score) or (self.score == other.score and self.name > other.name)\n",
    "\n",
    "\n",
    "class SmallNode:\n",
    "    \n",
    "    def __init__ (self, name, score):\n",
    "        self.name = name\n",
    "        self.score = score\n",
    "        \n",
    "    def __lt__ (self, other):\n",
    "        return (self.score < other.score) or (self.score == other.score and self.name < other.name)\n",
    "        "
   ],
   "outputs": [],
   "metadata": {}
  },
  {
   "cell_type": "code",
   "execution_count": 31,
   "source": [
    "from heapq import * \n",
    "\n",
    "small = []\n",
    "large = []\n",
    "cnt = 0"
   ],
   "outputs": [],
   "metadata": {}
  },
  {
   "cell_type": "code",
   "execution_count": 32,
   "source": [
    "name = 'bradford'\n",
    "score = 2\n",
    "smallNode = SmallNode (name, -score)\n",
    "heappush(small, smallNode)"
   ],
   "outputs": [],
   "metadata": {}
  },
  {
   "cell_type": "code",
   "execution_count": 33,
   "source": [
    "name = 'branford'\n",
    "score = 3\n",
    "smallNode = SmallNode (name, -score)\n",
    "heappush(small, smallNode)"
   ],
   "outputs": [],
   "metadata": {}
  },
  {
   "cell_type": "code",
   "execution_count": 34,
   "source": [
    "target = heappop(small)\n",
    "heappush(small, SmallNode(target.name, target.score))\n",
    "\n",
    "print(target.name)\n",
    "\n",
    "cnt += 1 \n",
    "while len(large) < cnt :\n",
    "    target = heappop(small)\n",
    "    heappush(large, LargeNode(target.name, -target.score))"
   ],
   "outputs": [
    {
     "output_type": "stream",
     "name": "stdout",
     "text": [
      "branford\n"
     ]
    }
   ],
   "metadata": {}
  },
  {
   "cell_type": "code",
   "execution_count": 35,
   "source": [
    "name = 'alps'\n",
    "score = 2\n",
    "smallNode = SmallNode (name, -score)\n",
    "heappush(small, smallNode)"
   ],
   "outputs": [],
   "metadata": {}
  },
  {
   "cell_type": "code",
   "execution_count": 36,
   "source": [
    "target = heappop(small)\n",
    "heappush(small, SmallNode(target.name, target.score))\n",
    "\n",
    "print(target.name)\n",
    "\n",
    "cnt += 1 \n",
    "while len(large) < cnt :\n",
    "    target = heappop(small)\n",
    "    heappush(large, LargeNode(target.name, -target.score))"
   ],
   "outputs": [
    {
     "output_type": "stream",
     "name": "stdout",
     "text": [
      "alps\n"
     ]
    }
   ],
   "metadata": {}
  },
  {
   "cell_type": "code",
   "execution_count": 37,
   "source": [
    "name = \"orland\"\n",
    "score = 2\n",
    "smallNode = SmallNode (name, -score)\n",
    "heappush(small, smallNode)"
   ],
   "outputs": [],
   "metadata": {}
  },
  {
   "cell_type": "code",
   "execution_count": null,
   "source": [],
   "outputs": [],
   "metadata": {}
  },
  {
   "cell_type": "code",
   "execution_count": 38,
   "source": [
    "target = heappop(small)\n",
    "print(target.name)\n",
    "print(target.score)\n"
   ],
   "outputs": [
    {
     "output_type": "stream",
     "name": "stdout",
     "text": [
      "bradford\n",
      "-2\n"
     ]
    }
   ],
   "metadata": {}
  },
  {
   "cell_type": "code",
   "execution_count": 29,
   "source": [
    "target = heappop(small)\n",
    "\n",
    "print(target.name)\n",
    "\n",
    "heappush(small, SmallNode(target.name, target.score))\n",
    "\n",
    "\n",
    "\n",
    "cnt += 1 \n",
    "while len(large) < cnt :\n",
    "    target = heappop(small)\n",
    "    heappush(large, LargeNode(target.name, -target.score))"
   ],
   "outputs": [
    {
     "output_type": "stream",
     "name": "stdout",
     "text": [
      "bradford\n"
     ]
    }
   ],
   "metadata": {}
  },
  {
   "cell_type": "code",
   "execution_count": 20,
   "source": [
    "name = \"orlando\"\n",
    "score = 3\n",
    "smallNode = SmallNode (name, -score)\n",
    "heappush(small, smallNode)"
   ],
   "outputs": [
    {
     "output_type": "stream",
     "name": "stdout",
     "text": [
      "bradford\n",
      "-2\n"
     ]
    }
   ],
   "metadata": {}
  },
  {
   "cell_type": "code",
   "execution_count": null,
   "source": [],
   "outputs": [],
   "metadata": {}
  }
 ],
 "metadata": {
  "orig_nbformat": 4,
  "language_info": {
   "name": "python",
   "version": "3.8.2",
   "mimetype": "text/x-python",
   "codemirror_mode": {
    "name": "ipython",
    "version": 3
   },
   "pygments_lexer": "ipython3",
   "nbconvert_exporter": "python",
   "file_extension": ".py"
  },
  "kernelspec": {
   "name": "python3",
   "display_name": "Python 3.8.2 64-bit"
  },
  "interpreter": {
   "hash": "31f2aee4e71d21fbe5cf8b01ff0e069b9275f58929596ceb00d14d90e3e16cd6"
  }
 },
 "nbformat": 4,
 "nbformat_minor": 2
}