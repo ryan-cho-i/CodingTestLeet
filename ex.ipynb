{
 "cells": [
  {
   "cell_type": "code",
   "execution_count": 29,
   "source": [
    "n = 4597\n",
    "num = []\n",
    "tmp = n\n",
    "while tmp > 0 :\n",
    "    num.insert(0, tmp%10)\n",
    "    tmp = tmp // (10)"
   ],
   "outputs": [],
   "metadata": {}
  },
  {
   "cell_type": "code",
   "execution_count": 30,
   "source": [
    "def case2(digit, integers):\n",
    "    ans = 1\n",
    "    for i in range(digit):\n",
    "        ans = ans * (10-integers-i)\n",
    "    return ans "
   ],
   "outputs": [],
   "metadata": {}
  },
  {
   "cell_type": "code",
   "execution_count": 31,
   "source": [
    "global ans \n",
    "ans = 0"
   ],
   "outputs": [],
   "metadata": {}
  },
  {
   "cell_type": "code",
   "execution_count": 32,
   "source": [
    "def recursion (num, integers):\n",
    "\n",
    "    global ans  \n",
    "    if len(num) == 1:\n",
    "        for i in range(10):\n",
    "            if num[0] >= i and i not in integers:\n",
    "                ans += 1\n",
    "            \n",
    "    if num[0] >= 1:\n",
    "        ans += case2(len(num)-1, len(integers)+1) * (num[0]-1)\n",
    "    ans += recursion(num[1:], integers+[num[0]]) \n",
    "\n",
    "         \n"
   ],
   "outputs": [],
   "metadata": {}
  },
  {
   "cell_type": "code",
   "execution_count": 33,
   "source": [
    "recursion(num[1:], [4])"
   ],
   "outputs": [
    {
     "output_type": "error",
     "ename": "IndexError",
     "evalue": "list index out of range",
     "traceback": [
      "\u001b[0;31m---------------------------------------------------------------------------\u001b[0m",
      "\u001b[0;31mIndexError\u001b[0m                                Traceback (most recent call last)",
      "\u001b[0;32m/var/folders/xk/hrw3wy1n61lf4xdzyjbzjtj00000gn/T/ipykernel_54018/1501490697.py\u001b[0m in \u001b[0;36m<module>\u001b[0;34m\u001b[0m\n\u001b[0;32m----> 1\u001b[0;31m \u001b[0mrecursion\u001b[0m\u001b[0;34m(\u001b[0m\u001b[0mnum\u001b[0m\u001b[0;34m[\u001b[0m\u001b[0;36m1\u001b[0m\u001b[0;34m:\u001b[0m\u001b[0;34m]\u001b[0m\u001b[0;34m,\u001b[0m \u001b[0;34m[\u001b[0m\u001b[0;36m4\u001b[0m\u001b[0;34m]\u001b[0m\u001b[0;34m)\u001b[0m\u001b[0;34m\u001b[0m\u001b[0;34m\u001b[0m\u001b[0m\n\u001b[0m",
      "\u001b[0;32m/var/folders/xk/hrw3wy1n61lf4xdzyjbzjtj00000gn/T/ipykernel_54018/132818065.py\u001b[0m in \u001b[0;36mrecursion\u001b[0;34m(num, integers)\u001b[0m\n\u001b[1;32m      9\u001b[0m     \u001b[0;32mif\u001b[0m \u001b[0mnum\u001b[0m\u001b[0;34m[\u001b[0m\u001b[0;36m0\u001b[0m\u001b[0;34m]\u001b[0m \u001b[0;34m>=\u001b[0m \u001b[0;36m1\u001b[0m\u001b[0;34m:\u001b[0m\u001b[0;34m\u001b[0m\u001b[0;34m\u001b[0m\u001b[0m\n\u001b[1;32m     10\u001b[0m         \u001b[0mans\u001b[0m \u001b[0;34m+=\u001b[0m \u001b[0mcase2\u001b[0m\u001b[0;34m(\u001b[0m\u001b[0mlen\u001b[0m\u001b[0;34m(\u001b[0m\u001b[0mnum\u001b[0m\u001b[0;34m)\u001b[0m\u001b[0;34m-\u001b[0m\u001b[0;36m1\u001b[0m\u001b[0;34m,\u001b[0m \u001b[0mlen\u001b[0m\u001b[0;34m(\u001b[0m\u001b[0mintegers\u001b[0m\u001b[0;34m)\u001b[0m\u001b[0;34m+\u001b[0m\u001b[0;36m1\u001b[0m\u001b[0;34m)\u001b[0m \u001b[0;34m*\u001b[0m \u001b[0;34m(\u001b[0m\u001b[0mnum\u001b[0m\u001b[0;34m[\u001b[0m\u001b[0;36m0\u001b[0m\u001b[0;34m]\u001b[0m\u001b[0;34m-\u001b[0m\u001b[0;36m1\u001b[0m\u001b[0;34m)\u001b[0m\u001b[0;34m\u001b[0m\u001b[0;34m\u001b[0m\u001b[0m\n\u001b[0;32m---> 11\u001b[0;31m     \u001b[0mans\u001b[0m \u001b[0;34m+=\u001b[0m \u001b[0mrecursion\u001b[0m\u001b[0;34m(\u001b[0m\u001b[0mnum\u001b[0m\u001b[0;34m[\u001b[0m\u001b[0;36m1\u001b[0m\u001b[0;34m:\u001b[0m\u001b[0;34m]\u001b[0m\u001b[0;34m,\u001b[0m \u001b[0mintegers\u001b[0m\u001b[0;34m+\u001b[0m\u001b[0;34m[\u001b[0m\u001b[0mnum\u001b[0m\u001b[0;34m[\u001b[0m\u001b[0;36m0\u001b[0m\u001b[0;34m]\u001b[0m\u001b[0;34m]\u001b[0m\u001b[0;34m)\u001b[0m\u001b[0;34m\u001b[0m\u001b[0;34m\u001b[0m\u001b[0m\n\u001b[0m\u001b[1;32m     12\u001b[0m \u001b[0;34m\u001b[0m\u001b[0m\n\u001b[1;32m     13\u001b[0m \u001b[0;34m\u001b[0m\u001b[0m\n",
      "\u001b[0;32m/var/folders/xk/hrw3wy1n61lf4xdzyjbzjtj00000gn/T/ipykernel_54018/132818065.py\u001b[0m in \u001b[0;36mrecursion\u001b[0;34m(num, integers)\u001b[0m\n\u001b[1;32m      9\u001b[0m     \u001b[0;32mif\u001b[0m \u001b[0mnum\u001b[0m\u001b[0;34m[\u001b[0m\u001b[0;36m0\u001b[0m\u001b[0;34m]\u001b[0m \u001b[0;34m>=\u001b[0m \u001b[0;36m1\u001b[0m\u001b[0;34m:\u001b[0m\u001b[0;34m\u001b[0m\u001b[0;34m\u001b[0m\u001b[0m\n\u001b[1;32m     10\u001b[0m         \u001b[0mans\u001b[0m \u001b[0;34m+=\u001b[0m \u001b[0mcase2\u001b[0m\u001b[0;34m(\u001b[0m\u001b[0mlen\u001b[0m\u001b[0;34m(\u001b[0m\u001b[0mnum\u001b[0m\u001b[0;34m)\u001b[0m\u001b[0;34m-\u001b[0m\u001b[0;36m1\u001b[0m\u001b[0;34m,\u001b[0m \u001b[0mlen\u001b[0m\u001b[0;34m(\u001b[0m\u001b[0mintegers\u001b[0m\u001b[0;34m)\u001b[0m\u001b[0;34m+\u001b[0m\u001b[0;36m1\u001b[0m\u001b[0;34m)\u001b[0m \u001b[0;34m*\u001b[0m \u001b[0;34m(\u001b[0m\u001b[0mnum\u001b[0m\u001b[0;34m[\u001b[0m\u001b[0;36m0\u001b[0m\u001b[0;34m]\u001b[0m\u001b[0;34m-\u001b[0m\u001b[0;36m1\u001b[0m\u001b[0;34m)\u001b[0m\u001b[0;34m\u001b[0m\u001b[0;34m\u001b[0m\u001b[0m\n\u001b[0;32m---> 11\u001b[0;31m     \u001b[0mans\u001b[0m \u001b[0;34m+=\u001b[0m \u001b[0mrecursion\u001b[0m\u001b[0;34m(\u001b[0m\u001b[0mnum\u001b[0m\u001b[0;34m[\u001b[0m\u001b[0;36m1\u001b[0m\u001b[0;34m:\u001b[0m\u001b[0;34m]\u001b[0m\u001b[0;34m,\u001b[0m \u001b[0mintegers\u001b[0m\u001b[0;34m+\u001b[0m\u001b[0;34m[\u001b[0m\u001b[0mnum\u001b[0m\u001b[0;34m[\u001b[0m\u001b[0;36m0\u001b[0m\u001b[0;34m]\u001b[0m\u001b[0;34m]\u001b[0m\u001b[0;34m)\u001b[0m\u001b[0;34m\u001b[0m\u001b[0;34m\u001b[0m\u001b[0m\n\u001b[0m\u001b[1;32m     12\u001b[0m \u001b[0;34m\u001b[0m\u001b[0m\n\u001b[1;32m     13\u001b[0m \u001b[0;34m\u001b[0m\u001b[0m\n",
      "\u001b[0;32m/var/folders/xk/hrw3wy1n61lf4xdzyjbzjtj00000gn/T/ipykernel_54018/132818065.py\u001b[0m in \u001b[0;36mrecursion\u001b[0;34m(num, integers)\u001b[0m\n\u001b[1;32m      9\u001b[0m     \u001b[0;32mif\u001b[0m \u001b[0mnum\u001b[0m\u001b[0;34m[\u001b[0m\u001b[0;36m0\u001b[0m\u001b[0;34m]\u001b[0m \u001b[0;34m>=\u001b[0m \u001b[0;36m1\u001b[0m\u001b[0;34m:\u001b[0m\u001b[0;34m\u001b[0m\u001b[0;34m\u001b[0m\u001b[0m\n\u001b[1;32m     10\u001b[0m         \u001b[0mans\u001b[0m \u001b[0;34m+=\u001b[0m \u001b[0mcase2\u001b[0m\u001b[0;34m(\u001b[0m\u001b[0mlen\u001b[0m\u001b[0;34m(\u001b[0m\u001b[0mnum\u001b[0m\u001b[0;34m)\u001b[0m\u001b[0;34m-\u001b[0m\u001b[0;36m1\u001b[0m\u001b[0;34m,\u001b[0m \u001b[0mlen\u001b[0m\u001b[0;34m(\u001b[0m\u001b[0mintegers\u001b[0m\u001b[0;34m)\u001b[0m\u001b[0;34m+\u001b[0m\u001b[0;36m1\u001b[0m\u001b[0;34m)\u001b[0m \u001b[0;34m*\u001b[0m \u001b[0;34m(\u001b[0m\u001b[0mnum\u001b[0m\u001b[0;34m[\u001b[0m\u001b[0;36m0\u001b[0m\u001b[0;34m]\u001b[0m\u001b[0;34m-\u001b[0m\u001b[0;36m1\u001b[0m\u001b[0;34m)\u001b[0m\u001b[0;34m\u001b[0m\u001b[0;34m\u001b[0m\u001b[0m\n\u001b[0;32m---> 11\u001b[0;31m     \u001b[0mans\u001b[0m \u001b[0;34m+=\u001b[0m \u001b[0mrecursion\u001b[0m\u001b[0;34m(\u001b[0m\u001b[0mnum\u001b[0m\u001b[0;34m[\u001b[0m\u001b[0;36m1\u001b[0m\u001b[0;34m:\u001b[0m\u001b[0;34m]\u001b[0m\u001b[0;34m,\u001b[0m \u001b[0mintegers\u001b[0m\u001b[0;34m+\u001b[0m\u001b[0;34m[\u001b[0m\u001b[0mnum\u001b[0m\u001b[0;34m[\u001b[0m\u001b[0;36m0\u001b[0m\u001b[0;34m]\u001b[0m\u001b[0;34m]\u001b[0m\u001b[0;34m)\u001b[0m\u001b[0;34m\u001b[0m\u001b[0;34m\u001b[0m\u001b[0m\n\u001b[0m\u001b[1;32m     12\u001b[0m \u001b[0;34m\u001b[0m\u001b[0m\n\u001b[1;32m     13\u001b[0m \u001b[0;34m\u001b[0m\u001b[0m\n",
      "\u001b[0;32m/var/folders/xk/hrw3wy1n61lf4xdzyjbzjtj00000gn/T/ipykernel_54018/132818065.py\u001b[0m in \u001b[0;36mrecursion\u001b[0;34m(num, integers)\u001b[0m\n\u001b[1;32m      7\u001b[0m                 \u001b[0mans\u001b[0m \u001b[0;34m+=\u001b[0m \u001b[0;36m1\u001b[0m\u001b[0;34m\u001b[0m\u001b[0;34m\u001b[0m\u001b[0m\n\u001b[1;32m      8\u001b[0m \u001b[0;34m\u001b[0m\u001b[0m\n\u001b[0;32m----> 9\u001b[0;31m     \u001b[0;32mif\u001b[0m \u001b[0mnum\u001b[0m\u001b[0;34m[\u001b[0m\u001b[0;36m0\u001b[0m\u001b[0;34m]\u001b[0m \u001b[0;34m>=\u001b[0m \u001b[0;36m1\u001b[0m\u001b[0;34m:\u001b[0m\u001b[0;34m\u001b[0m\u001b[0;34m\u001b[0m\u001b[0m\n\u001b[0m\u001b[1;32m     10\u001b[0m         \u001b[0mans\u001b[0m \u001b[0;34m+=\u001b[0m \u001b[0mcase2\u001b[0m\u001b[0;34m(\u001b[0m\u001b[0mlen\u001b[0m\u001b[0;34m(\u001b[0m\u001b[0mnum\u001b[0m\u001b[0;34m)\u001b[0m\u001b[0;34m-\u001b[0m\u001b[0;36m1\u001b[0m\u001b[0;34m,\u001b[0m \u001b[0mlen\u001b[0m\u001b[0;34m(\u001b[0m\u001b[0mintegers\u001b[0m\u001b[0;34m)\u001b[0m\u001b[0;34m+\u001b[0m\u001b[0;36m1\u001b[0m\u001b[0;34m)\u001b[0m \u001b[0;34m*\u001b[0m \u001b[0;34m(\u001b[0m\u001b[0mnum\u001b[0m\u001b[0;34m[\u001b[0m\u001b[0;36m0\u001b[0m\u001b[0;34m]\u001b[0m\u001b[0;34m-\u001b[0m\u001b[0;36m1\u001b[0m\u001b[0;34m)\u001b[0m\u001b[0;34m\u001b[0m\u001b[0;34m\u001b[0m\u001b[0m\n\u001b[1;32m     11\u001b[0m     \u001b[0mans\u001b[0m \u001b[0;34m+=\u001b[0m \u001b[0mrecursion\u001b[0m\u001b[0;34m(\u001b[0m\u001b[0mnum\u001b[0m\u001b[0;34m[\u001b[0m\u001b[0;36m1\u001b[0m\u001b[0;34m:\u001b[0m\u001b[0;34m]\u001b[0m\u001b[0;34m,\u001b[0m \u001b[0mintegers\u001b[0m\u001b[0;34m+\u001b[0m\u001b[0;34m[\u001b[0m\u001b[0mnum\u001b[0m\u001b[0;34m[\u001b[0m\u001b[0;36m0\u001b[0m\u001b[0;34m]\u001b[0m\u001b[0;34m]\u001b[0m\u001b[0;34m)\u001b[0m\u001b[0;34m\u001b[0m\u001b[0;34m\u001b[0m\u001b[0m\n",
      "\u001b[0;31mIndexError\u001b[0m: list index out of range"
     ]
    }
   ],
   "metadata": {}
  },
  {
   "cell_type": "code",
   "execution_count": 34,
   "source": [
    "ans"
   ],
   "outputs": [
    {
     "output_type": "execute_result",
     "data": {
      "text/plain": [
       "292"
      ]
     },
     "metadata": {},
     "execution_count": 34
    }
   ],
   "metadata": {}
  },
  {
   "cell_type": "code",
   "execution_count": 45,
   "source": [
    "result={}"
   ],
   "outputs": [],
   "metadata": {}
  },
  {
   "cell_type": "code",
   "execution_count": 46,
   "source": [
    "result[[1,2,3]] = True"
   ],
   "outputs": [
    {
     "output_type": "error",
     "ename": "TypeError",
     "evalue": "unhashable type: 'list'",
     "traceback": [
      "\u001b[0;31m---------------------------------------------------------------------------\u001b[0m",
      "\u001b[0;31mTypeError\u001b[0m                                 Traceback (most recent call last)",
      "\u001b[0;32m/var/folders/xk/hrw3wy1n61lf4xdzyjbzjtj00000gn/T/ipykernel_54018/3450721889.py\u001b[0m in \u001b[0;36m<module>\u001b[0;34m\u001b[0m\n\u001b[0;32m----> 1\u001b[0;31m \u001b[0mresult\u001b[0m\u001b[0;34m[\u001b[0m\u001b[0;34m[\u001b[0m\u001b[0;36m1\u001b[0m\u001b[0;34m,\u001b[0m\u001b[0;36m2\u001b[0m\u001b[0;34m,\u001b[0m\u001b[0;36m3\u001b[0m\u001b[0;34m]\u001b[0m\u001b[0;34m]\u001b[0m \u001b[0;34m=\u001b[0m \u001b[0;32mTrue\u001b[0m\u001b[0;34m\u001b[0m\u001b[0;34m\u001b[0m\u001b[0m\n\u001b[0m",
      "\u001b[0;31mTypeError\u001b[0m: unhashable type: 'list'"
     ]
    }
   ],
   "metadata": {}
  },
  {
   "cell_type": "code",
   "execution_count": 44,
   "source": [
    "result"
   ],
   "outputs": [
    {
     "output_type": "execute_result",
     "data": {
      "text/plain": [
       "{}"
      ]
     },
     "metadata": {},
     "execution_count": 44
    }
   ],
   "metadata": {}
  },
  {
   "cell_type": "code",
   "execution_count": 47,
   "source": [
    "from collections import Counter"
   ],
   "outputs": [],
   "metadata": {}
  },
  {
   "cell_type": "code",
   "execution_count": 50,
   "source": [],
   "outputs": [
    {
     "output_type": "execute_result",
     "data": {
      "text/plain": [
       "Counter({1: 1, 2: 1, 3: 1, 4: 1})"
      ]
     },
     "metadata": {},
     "execution_count": 50
    }
   ],
   "metadata": {}
  },
  {
   "cell_type": "code",
   "execution_count": 51,
   "source": [
    "result[{1: 1, 2: 1, 3: 1, 4: 1}] = True"
   ],
   "outputs": [
    {
     "output_type": "error",
     "ename": "TypeError",
     "evalue": "unhashable type: 'Counter'",
     "traceback": [
      "\u001b[0;31m---------------------------------------------------------------------------\u001b[0m",
      "\u001b[0;31mTypeError\u001b[0m                                 Traceback (most recent call last)",
      "\u001b[0;32m/var/folders/xk/hrw3wy1n61lf4xdzyjbzjtj00000gn/T/ipykernel_54018/3433032187.py\u001b[0m in \u001b[0;36m<module>\u001b[0;34m\u001b[0m\n\u001b[0;32m----> 1\u001b[0;31m \u001b[0mresult\u001b[0m\u001b[0;34m[\u001b[0m\u001b[0mCounter\u001b[0m\u001b[0;34m(\u001b[0m\u001b[0;34m[\u001b[0m\u001b[0;36m1\u001b[0m\u001b[0;34m,\u001b[0m\u001b[0;36m2\u001b[0m\u001b[0;34m,\u001b[0m\u001b[0;36m3\u001b[0m\u001b[0;34m,\u001b[0m\u001b[0;36m4\u001b[0m\u001b[0;34m]\u001b[0m\u001b[0;34m)\u001b[0m\u001b[0;34m]\u001b[0m \u001b[0;34m=\u001b[0m \u001b[0;32mTrue\u001b[0m\u001b[0;34m\u001b[0m\u001b[0;34m\u001b[0m\u001b[0m\n\u001b[0m",
      "\u001b[0;31mTypeError\u001b[0m: unhashable type: 'Counter'"
     ]
    }
   ],
   "metadata": {}
  },
  {
   "cell_type": "code",
   "execution_count": 5,
   "source": [
    "dp = {0 : 1, 1: 1, 2:1}\n",
    "num = 4"
   ],
   "outputs": [],
   "metadata": {}
  },
  {
   "cell_type": "code",
   "execution_count": 4,
   "source": [
    "print({num + i for i in dp})"
   ],
   "outputs": [
    {
     "output_type": "stream",
     "name": "stdout",
     "text": [
      "{4}\n"
     ]
    }
   ],
   "metadata": {}
  },
  {
   "cell_type": "code",
   "execution_count": 1,
   "source": [
    "3 << 1"
   ],
   "outputs": [
    {
     "output_type": "execute_result",
     "data": {
      "text/plain": [
       "6"
      ]
     },
     "metadata": {},
     "execution_count": 1
    }
   ],
   "metadata": {}
  },
  {
   "cell_type": "code",
   "execution_count": 2,
   "source": [
    "3>> 1"
   ],
   "outputs": [
    {
     "output_type": "execute_result",
     "data": {
      "text/plain": [
       "1"
      ]
     },
     "metadata": {},
     "execution_count": 2
    }
   ],
   "metadata": {}
  },
  {
   "cell_type": "code",
   "execution_count": 4,
   "source": [
    "3 & 1"
   ],
   "outputs": [
    {
     "output_type": "execute_result",
     "data": {
      "text/plain": [
       "1"
      ]
     },
     "metadata": {},
     "execution_count": 4
    }
   ],
   "metadata": {}
  },
  {
   "cell_type": "code",
   "execution_count": 7,
   "source": [
    "mask = (1 << 7) - 1\n",
    "mask"
   ],
   "outputs": [
    {
     "output_type": "execute_result",
     "data": {
      "text/plain": [
       "127"
      ]
     },
     "metadata": {},
     "execution_count": 7
    }
   ],
   "metadata": {}
  },
  {
   "cell_type": "code",
   "execution_count": 8,
   "source": [
    "for i in range(7):\n",
    "    print(i)\n",
    "    print((mask >> i) & 1)\n",
    "    if (mask >> i) & 1:\n",
    "        newMask = mask ^ (1 << i)\n",
    "        print(newMask)"
   ],
   "outputs": [
    {
     "output_type": "stream",
     "name": "stdout",
     "text": [
      "0\n",
      "1\n",
      "126\n",
      "1\n",
      "1\n",
      "125\n",
      "2\n",
      "1\n",
      "123\n",
      "3\n",
      "1\n",
      "119\n",
      "4\n",
      "1\n",
      "111\n",
      "5\n",
      "1\n",
      "95\n",
      "6\n",
      "1\n",
      "63\n"
     ]
    }
   ],
   "metadata": {}
  },
  {
   "cell_type": "code",
   "execution_count": 1,
   "source": [
    "8^4"
   ],
   "outputs": [
    {
     "output_type": "execute_result",
     "data": {
      "text/plain": [
       "12"
      ]
     },
     "metadata": {},
     "execution_count": 1
    }
   ],
   "metadata": {}
  },
  {
   "cell_type": "code",
   "execution_count": 28,
   "source": [
    "from collections import deque\n",
    "\n",
    "def getResult(arrival, street):\n",
    "    mainSt = deque()\n",
    "    firstSt = deque()\n",
    "    \n",
    "    for i in range(len(arrival)):\n",
    "        if street[i] == 0:\n",
    "            mainSt.append((arrival[i], i))\n",
    "        else:\n",
    "            firstSt.append((arrival[i], i))\n",
    "    \n",
    "    timeToSt = dict()\n",
    "    carToTime = dict()\n",
    "    \n",
    "    curTime = 0\n",
    "    \n",
    "    while(mainSt or firstSt):\n",
    "        if not mainSt or mainSt[0][0] > firstSt[0][0]:\n",
    "            # firstSt\n",
    "            car = firstSt.popleft()\n",
    "            \n",
    "            \n",
    "            curTime = max(curTime, car[0])\n",
    "            \n",
    "            timeToSt[car[0]] = 0\n",
    "            carToTime[car[1]] = curTime\n",
    "            curTime += 1\n",
    "            \n",
    "            continue\n",
    "            \n",
    "        if not firstSt or firstSt[0][0] > mainSt[0][0]:\n",
    "            \n",
    "            # mainSt\n",
    "            car = mainSt.popleft()\n",
    "            \n",
    "            curTime = max(curTime, car[0])\n",
    "            \n",
    "            timeToSt[car[0]] = 1\n",
    "            carToTime[car[1]] = curTime\n",
    "            curTime += 1\n",
    "            \n",
    "            continue\n",
    "    \n",
    "        car0 = mainSt[0]\n",
    "        car1 = firstSt[0]\n",
    "        \n",
    "        # same time\n",
    "        curTime = max(curTime, car0[0])\n",
    "        \n",
    "        if (curTime-1) in timeToSt:\n",
    "            \n",
    "            if timeToSt(curTime-1) == 0:\n",
    "                # mainSt\n",
    "                car = mainSt.popleft()\n",
    "\n",
    "                curTime = max(curTime, car[0])\n",
    "\n",
    "                timeToSt(car[0], 1);\n",
    "                carToTime(car[1], curTime)\n",
    "                curTime += 1\n",
    "\n",
    "                continue\n",
    "            else:\n",
    "                # firstSt\n",
    "                car = firstSt.popleft()\n",
    "\n",
    "\n",
    "                curTime = max(curTime, car[0])\n",
    "\n",
    "                timeToSt(car[0], 0);\n",
    "                carToTime(car[1], curTime)\n",
    "                curTime += 1\n",
    "\n",
    "                continue\n",
    "        \n",
    "        else:\n",
    "            # firstSt\n",
    "            car = firstSt.popleft()\n",
    "\n",
    "\n",
    "            curTime = max(curTime, car[0])\n",
    "\n",
    "            timeToSt[car[0]] = 0\n",
    "            carToTime[car[1]] = curTime\n",
    "            curTime += 1\n",
    "\n",
    "            continue\n",
    "\n",
    "        \n",
    "        # timeToSt 로 array 만들어서 return\n",
    "        \n",
    "        arr = []\n",
    "        \n",
    "        for i in range(len(arrival)):\n",
    "            arr.append(carToTime[i])\n",
    "            \n",
    "        return arr"
   ],
   "outputs": [],
   "metadata": {}
  },
  {
   "cell_type": "code",
   "execution_count": 29,
   "source": [
    "canReach(1, 1, 1, 5, 4)"
   ],
   "outputs": [
    {
     "output_type": "stream",
     "name": "stdout",
     "text": [
      "[False, False, False, False, False, False]\n",
      "[False, True, True, True, False, False]\n",
      "[False, True, True, True, False, True]\n",
      "[False, True, True, False, True, True]\n",
      "[False, False, False, True, False, True]\n"
     ]
    },
    {
     "output_type": "execute_result",
     "data": {
      "text/plain": [
       "'Yes'"
      ]
     },
     "metadata": {},
     "execution_count": 29
    }
   ],
   "metadata": {}
  },
  {
   "cell_type": "code",
   "execution_count": 13,
   "source": [
    "sqrt(16)"
   ],
   "outputs": [
    {
     "output_type": "error",
     "ename": "NameError",
     "evalue": "name 'sqrt' is not defined",
     "traceback": [
      "\u001b[0;31m---------------------------------------------------------------------------\u001b[0m",
      "\u001b[0;31mNameError\u001b[0m                                 Traceback (most recent call last)",
      "\u001b[0;32m/var/folders/xk/hrw3wy1n61lf4xdzyjbzjtj00000gn/T/ipykernel_14207/244926836.py\u001b[0m in \u001b[0;36m<module>\u001b[0;34m\u001b[0m\n\u001b[0;32m----> 1\u001b[0;31m \u001b[0msqrt\u001b[0m\u001b[0;34m(\u001b[0m\u001b[0;36m16\u001b[0m\u001b[0;34m)\u001b[0m\u001b[0;34m\u001b[0m\u001b[0;34m\u001b[0m\u001b[0m\n\u001b[0m",
      "\u001b[0;31mNameError\u001b[0m: name 'sqrt' is not defined"
     ]
    }
   ],
   "metadata": {}
  },
  {
   "cell_type": "code",
   "execution_count": 14,
   "source": [
    "from math import sqrt"
   ],
   "outputs": [],
   "metadata": {}
  },
  {
   "cell_type": "code",
   "execution_count": 15,
   "source": [],
   "outputs": [
    {
     "output_type": "execute_result",
     "data": {
      "text/plain": [
       "4.0"
      ]
     },
     "metadata": {},
     "execution_count": 15
    }
   ],
   "metadata": {}
  },
  {
   "cell_type": "code",
   "execution_count": 23,
   "source": [
    "int(sqrt(16)) ** 2"
   ],
   "outputs": [
    {
     "output_type": "execute_result",
     "data": {
      "text/plain": [
       "16"
      ]
     },
     "metadata": {},
     "execution_count": 23
    }
   ],
   "metadata": {}
  },
  {
   "cell_type": "code",
   "execution_count": 37,
   "source": [
    "from collections import deque\n",
    "\n",
    "def getResult(arrival, street):\n",
    "    mainSt = deque()\n",
    "    firstSt = deque()\n",
    "    \n",
    "    for i in range(len(arrival)):\n",
    "        if street[i] == 0:\n",
    "            mainSt.append((arrival[i], i))\n",
    "        else:\n",
    "            firstSt.append((arrival[i], i))\n",
    "    \n",
    "    timeToSt = dict()\n",
    "    carToTime = dict()\n",
    "    \n",
    "    curTime = 0\n",
    "    \n",
    "    while(mainSt or firstSt):\n",
    "        if not mainSt or mainSt[0][0] > firstSt[0][0]:\n",
    "            # firstSt\n",
    "            car = firstSt.popleft()\n",
    "            \n",
    "            \n",
    "            curTime = max(curTime, car[0])\n",
    "            \n",
    "            timeToSt[car[0]] = 0\n",
    "            carToTime[car[1]] = curTime\n",
    "            curTime += 1\n",
    "            \n",
    "            continue\n",
    "            \n",
    "        if not firstSt or firstSt[0][0] > mainSt[0][0]:\n",
    "            \n",
    "            # mainSt\n",
    "            car = mainSt.popleft()\n",
    "            \n",
    "            curTime = max(curTime, car[0])\n",
    "            \n",
    "            timeToSt[car[0]] = 1\n",
    "            carToTime[car[1]] = curTime\n",
    "            curTime += 1\n",
    "            \n",
    "            continue\n",
    "    \n",
    "        car0 = mainSt[0]\n",
    "        car1 = firstSt[0]\n",
    "        \n",
    "        # same time\n",
    "        curTime = max(curTime, car0[0])\n",
    "        \n",
    "        if (curTime-1) in timeToSt:\n",
    "            \n",
    "            if timeToSt(curTime-1) == 0:\n",
    "                # mainSt\n",
    "                car = mainSt.popleft()\n",
    "\n",
    "                curTime = max(curTime, car[0])\n",
    "\n",
    "                timeToSt(car[0], 1);\n",
    "                carToTime(car[1], curTime)\n",
    "                curTime += 1\n",
    "\n",
    "                continue\n",
    "            else:\n",
    "                # firstSt\n",
    "                car = firstSt.popleft()\n",
    "\n",
    "\n",
    "                curTime = max(curTime, car[0])\n",
    "\n",
    "                timeToSt(car[0], 0);\n",
    "                carToTime(car[1], curTime)\n",
    "                curTime += 1\n",
    "\n",
    "                continue\n",
    "        \n",
    "        else:\n",
    "            # firstSt\n",
    "            car = firstSt.popleft()\n",
    "\n",
    "\n",
    "            curTime = max(curTime, car[0])\n",
    "\n",
    "            timeToSt[car[0]] = 0\n",
    "            carToTime[car[1]] = curTime\n",
    "            curTime += 1\n",
    "\n",
    "            continue\n",
    "\n",
    "        \n",
    "        # timeToSt 로 array 만들어서 return\n",
    "        \n",
    "        arr = []\n",
    "        \n",
    "        for i in range(len(arrival)):\n",
    "            arr.append(carToTime[i])\n",
    "            \n",
    "        return arr"
   ],
   "outputs": [
    {
     "output_type": "error",
     "ename": "SyntaxError",
     "evalue": "invalid syntax (2873336076.py, line 99)",
     "traceback": [
      "\u001b[0;36m  File \u001b[0;32m\"/var/folders/xk/hrw3wy1n61lf4xdzyjbzjtj00000gn/T/ipykernel_14207/2873336076.py\"\u001b[0;36m, line \u001b[0;32m99\u001b[0m\n\u001b[0;31m    \u0003\u001b[0m\n\u001b[0m    ^\u001b[0m\n\u001b[0;31mSyntaxError\u001b[0m\u001b[0;31m:\u001b[0m invalid syntax\n"
     ]
    }
   ],
   "metadata": {}
  },
  {
   "cell_type": "code",
   "execution_count": 35,
   "source": [
    "getResult(arrival = [0, 1, 1, 3, 3], street = [0, 1, 0, 0, 1])"
   ],
   "outputs": [
    {
     "output_type": "error",
     "ename": "TypeError",
     "evalue": "'dict' object is not callable",
     "traceback": [
      "\u001b[0;31m---------------------------------------------------------------------------\u001b[0m",
      "\u001b[0;31mTypeError\u001b[0m                                 Traceback (most recent call last)",
      "\u001b[0;32m/var/folders/xk/hrw3wy1n61lf4xdzyjbzjtj00000gn/T/ipykernel_14207/1678946801.py\u001b[0m in \u001b[0;36m<module>\u001b[0;34m\u001b[0m\n\u001b[0;32m----> 1\u001b[0;31m \u001b[0mgetResult\u001b[0m\u001b[0;34m(\u001b[0m\u001b[0marrival\u001b[0m \u001b[0;34m=\u001b[0m \u001b[0;34m[\u001b[0m\u001b[0;36m0\u001b[0m\u001b[0;34m,\u001b[0m \u001b[0;36m1\u001b[0m\u001b[0;34m,\u001b[0m \u001b[0;36m1\u001b[0m\u001b[0;34m,\u001b[0m \u001b[0;36m3\u001b[0m\u001b[0;34m,\u001b[0m \u001b[0;36m3\u001b[0m\u001b[0;34m]\u001b[0m\u001b[0;34m,\u001b[0m \u001b[0mstreet\u001b[0m \u001b[0;34m=\u001b[0m \u001b[0;34m[\u001b[0m\u001b[0;36m0\u001b[0m\u001b[0;34m,\u001b[0m \u001b[0;36m1\u001b[0m\u001b[0;34m,\u001b[0m \u001b[0;36m0\u001b[0m\u001b[0;34m,\u001b[0m \u001b[0;36m0\u001b[0m\u001b[0;34m,\u001b[0m \u001b[0;36m1\u001b[0m\u001b[0;34m]\u001b[0m\u001b[0;34m)\u001b[0m\u001b[0;34m\u001b[0m\u001b[0;34m\u001b[0m\u001b[0m\n\u001b[0m",
      "\u001b[0;32m/var/folders/xk/hrw3wy1n61lf4xdzyjbzjtj00000gn/T/ipykernel_14207/4278367369.py\u001b[0m in \u001b[0;36mgetResult\u001b[0;34m(arrival, street)\u001b[0m\n\u001b[1;32m     51\u001b[0m         \u001b[0;32mif\u001b[0m \u001b[0;34m(\u001b[0m\u001b[0mcurTime\u001b[0m\u001b[0;34m-\u001b[0m\u001b[0;36m1\u001b[0m\u001b[0;34m)\u001b[0m \u001b[0;32min\u001b[0m \u001b[0mtimeToSt\u001b[0m\u001b[0;34m:\u001b[0m\u001b[0;34m\u001b[0m\u001b[0;34m\u001b[0m\u001b[0m\n\u001b[1;32m     52\u001b[0m \u001b[0;34m\u001b[0m\u001b[0m\n\u001b[0;32m---> 53\u001b[0;31m             \u001b[0;32mif\u001b[0m \u001b[0mtimeToSt\u001b[0m\u001b[0;34m(\u001b[0m\u001b[0mcurTime\u001b[0m\u001b[0;34m-\u001b[0m\u001b[0;36m1\u001b[0m\u001b[0;34m)\u001b[0m \u001b[0;34m==\u001b[0m \u001b[0;36m0\u001b[0m\u001b[0;34m:\u001b[0m\u001b[0;34m\u001b[0m\u001b[0;34m\u001b[0m\u001b[0m\n\u001b[0m\u001b[1;32m     54\u001b[0m                 \u001b[0;31m# mainSt\u001b[0m\u001b[0;34m\u001b[0m\u001b[0;34m\u001b[0m\u001b[0;34m\u001b[0m\u001b[0m\n\u001b[1;32m     55\u001b[0m                 \u001b[0mcar\u001b[0m \u001b[0;34m=\u001b[0m \u001b[0mmainSt\u001b[0m\u001b[0;34m.\u001b[0m\u001b[0mpopleft\u001b[0m\u001b[0;34m(\u001b[0m\u001b[0;34m)\u001b[0m\u001b[0;34m\u001b[0m\u001b[0;34m\u001b[0m\u001b[0m\n",
      "\u001b[0;31mTypeError\u001b[0m: 'dict' object is not callable"
     ]
    }
   ],
   "metadata": {}
  },
  {
   "cell_type": "code",
   "execution_count": 12,
   "source": [
    "document =  \"Practice makes perfect. you'll only get Perfect by practice. just practice!\"\n"
   ],
   "outputs": [],
   "metadata": {}
  },
  {
   "cell_type": "code",
   "execution_count": 13,
   "source": [
    "from string import ascii_lowercase\n",
    "# Step1. Clean the document\n",
    "\n",
    "lower = set(ascii_lowercase)\n",
    "document = document.lower()\n",
    "for char in document:\n",
    "    if char != \" \":\n",
    "        if char not in lower:\n",
    "            document = document.replace(char, \"\")  \n",
    "\n",
    "#"
   ],
   "outputs": [],
   "metadata": {}
  },
  {
   "cell_type": "code",
   "execution_count": 14,
   "source": [
    "document = document.split(\" \")\n",
    "document"
   ],
   "outputs": [
    {
     "output_type": "execute_result",
     "data": {
      "text/plain": [
       "['practice',\n",
       " 'makes',\n",
       " 'perfect',\n",
       " 'youll',\n",
       " 'only',\n",
       " 'get',\n",
       " 'perfect',\n",
       " 'by',\n",
       " 'practice',\n",
       " 'just',\n",
       " 'practice']"
      ]
     },
     "metadata": {},
     "execution_count": 14
    }
   ],
   "metadata": {}
  },
  {
   "cell_type": "code",
   "execution_count": 15,
   "source": [
    "\n",
    "frequency = {}\n",
    "order = {}\n",
    "for idx, word in enumerate(document) :\n",
    "    if not (frequency.get(word, False)):\n",
    "        frequency[word] = 1\n",
    "        order[word] = -idx\n",
    "    else:\n",
    "        frequency[word] += 1"
   ],
   "outputs": [],
   "metadata": {}
  },
  {
   "cell_type": "code",
   "execution_count": 17,
   "source": [
    "order"
   ],
   "outputs": [
    {
     "output_type": "execute_result",
     "data": {
      "text/plain": [
       "{'practice': 0,\n",
       " 'makes': -1,\n",
       " 'perfect': -2,\n",
       " 'youll': -3,\n",
       " 'only': -4,\n",
       " 'get': -5,\n",
       " 'by': -7,\n",
       " 'just': -9}"
      ]
     },
     "metadata": {},
     "execution_count": 17
    }
   ],
   "metadata": {}
  },
  {
   "cell_type": "code",
   "execution_count": null,
   "source": [
    "from string import ascii_lowercase\n",
    "\n",
    "def word_count_engine(document):\n",
    "  \n",
    "  # Step1. Clean the document\n",
    "  \n",
    "  lower = set(ascii_lowercase)\n",
    "  document = document.lower()\n",
    "  for char in document:\n",
    "    if char != \" \":\n",
    "      if char not in lower:\n",
    "        document = document.replace(char, \"\")  \n",
    "  \n",
    "  document += \" \"\n",
    "  \n",
    "  # Step2. Record the frequency and the order of the word in array \n",
    "  \n",
    "  # x = txt.split(\"\")\n",
    "  \n",
    "  \n",
    "  frequency = {}\n",
    "  order = {}\n",
    "  orderCnt = len(document)\n",
    "  \n",
    "  \n",
    "  word = \"\"\n",
    "  for idx, char in enumerate(document) :\n",
    "    if char != \" \":\n",
    "      word += char \n",
    "    else:\n",
    "      if word:\n",
    "        if not (frequency.get(word, False)):\n",
    "          order[word] = orderCnt\n",
    "        frequency[word] = frequency.get(word, 0) + 1\n",
    "        orderCnt -= 1 \n",
    "        word = \"\"\n",
    "  \n",
    "  # Step3. Sort the array by the frequency and the order.\n",
    "  \n",
    "  res = []\n",
    "  for key, value in frequency.items():\n",
    "    res.append([key, str(value)])\n",
    "  \n",
    "  res = sorted(res, key = lambda element: (element[1], order[element[0]]), reverse = True)\n",
    "    \n",
    "  return res \n",
    "  \n",
    "document = \"Every book is a quotation; and every house is a quotation out of all forests, and mines, and stone quarries; and every man is a quotation from all his ancestors. \"\n",
    "word_count_engine(document)\n",
    "\n",
    "\n",
    "  \n",
    "\n",
    "\n"
   ],
   "outputs": [],
   "metadata": {}
  },
  {
   "cell_type": "code",
   "execution_count": 38,
   "source": [
    "from string import ascii_lowercase\n",
    "\n",
    "def word_count_engine(document):\n",
    "  \n",
    "  lower = set(ascii_lowercase)\n",
    "  document = document.lower()\n",
    "  document = document.split(\" \")\n",
    "  words = []\n",
    "  for word in document:\n",
    "    for char in word :\n",
    "      if char not in lower:\n",
    "        word = word.replace(char, \"\")  \n",
    "    if len(word) > 0 :\n",
    "      words.append(word)\n",
    "  \n",
    "  # Step2. Record the frequency and the order of the word in array \n",
    "  \n",
    "  frequency = {}\n",
    "  order = {}\n",
    "  for idx, word in enumerate(words) :\n",
    "    if not (frequency.get(word, False)):\n",
    "      frequency[word] = 1\n",
    "      order[word] = -idx\n",
    "    else:\n",
    "      frequency[word] += 1\n",
    "     \n",
    "  \n",
    "  # Step3. Sort the array by the frequency and the order.\n",
    "  \n",
    "  res = []\n",
    "  for key, value in frequency.items():\n",
    "    res.append([key, str(value)])\n",
    "  \n",
    "  res = sorted(res, key = lambda element: (element[1], order[element[0]]), reverse = True)\n",
    "    \n",
    "  return res "
   ],
   "outputs": [],
   "metadata": {}
  },
  {
   "cell_type": "code",
   "execution_count": 39,
   "source": [
    "\n",
    "document = \"Every book is a quotation; and every house is a quotation out of all forests, and mines, and stone quarries; and every man is a quotation from all his ancestors. \"\n",
    "word_count_engine(document)\n"
   ],
   "outputs": [
    {
     "output_type": "stream",
     "name": "stdout",
     "text": [
      "['every', 'book', 'is', 'a', 'quotation', 'and', 'every', 'house', 'is', 'a', 'quotation', 'out', 'of', 'all', 'forests', 'and', 'mines', 'and', 'stone', 'quarries', 'and', 'every', 'man', 'is', 'a', 'quotation', 'from', 'all', 'his', 'ancestors']\n"
     ]
    },
    {
     "output_type": "execute_result",
     "data": {
      "text/plain": [
       "[['and', '4'],\n",
       " ['every', '3'],\n",
       " ['is', '3'],\n",
       " ['a', '3'],\n",
       " ['quotation', '2'],\n",
       " ['all', '2'],\n",
       " ['book', '1'],\n",
       " ['quotation;', '1'],\n",
       " ['house', '1'],\n",
       " ['out', '1'],\n",
       " ['of', '1'],\n",
       " ['forests,', '1'],\n",
       " ['mines,', '1'],\n",
       " ['stone', '1'],\n",
       " ['quarries;', '1'],\n",
       " ['man', '1'],\n",
       " ['from', '1'],\n",
       " ['his', '1'],\n",
       " ['ancestors.', '1'],\n",
       " ['', '1']]"
      ]
     },
     "metadata": {},
     "execution_count": 39
    }
   ],
   "metadata": {}
  },
  {
   "cell_type": "code",
   "execution_count": 1,
   "source": [
    "xs = [()]"
   ],
   "outputs": [],
   "metadata": {}
  },
  {
   "cell_type": "code",
   "execution_count": 2,
   "source": [
    "xs"
   ],
   "outputs": [
    {
     "output_type": "execute_result",
     "data": {
      "text/plain": [
       "[()]"
      ]
     },
     "metadata": {},
     "execution_count": 2
    }
   ],
   "metadata": {}
  },
  {
   "cell_type": "code",
   "execution_count": 3,
   "source": [
    "xs[0]"
   ],
   "outputs": [
    {
     "output_type": "execute_result",
     "data": {
      "text/plain": [
       "()"
      ]
     },
     "metadata": {},
     "execution_count": 3
    }
   ],
   "metadata": {}
  },
  {
   "cell_type": "code",
   "execution_count": 4,
   "source": [
    "if xs :\n",
    "    print('h')"
   ],
   "outputs": [
    {
     "output_type": "stream",
     "name": "stdout",
     "text": [
      "h\n"
     ]
    }
   ],
   "metadata": {}
  },
  {
   "cell_type": "code",
   "execution_count": 5,
   "source": [
    "if xs[0]:\n",
    "    print('h')"
   ],
   "outputs": [],
   "metadata": {}
  },
  {
   "cell_type": "code",
   "execution_count": 5,
   "source": [
    "ex = 2005"
   ],
   "outputs": [],
   "metadata": {}
  },
  {
   "cell_type": "code",
   "execution_count": 6,
   "source": [
    "ex = str(ex)\n",
    "ex"
   ],
   "outputs": [
    {
     "output_type": "execute_result",
     "data": {
      "text/plain": [
       "'2005'"
      ]
     },
     "metadata": {},
     "execution_count": 6
    }
   ],
   "metadata": {}
  },
  {
   "cell_type": "code",
   "execution_count": 7,
   "source": [
    "ex = sorted(ex)\n",
    "ex"
   ],
   "outputs": [
    {
     "output_type": "execute_result",
     "data": {
      "text/plain": [
       "['0', '0', '2', '5']"
      ]
     },
     "metadata": {},
     "execution_count": 7
    }
   ],
   "metadata": {}
  },
  {
   "cell_type": "code",
   "execution_count": null,
   "source": [],
   "outputs": [],
   "metadata": {}
  }
 ],
 "metadata": {
  "orig_nbformat": 4,
  "language_info": {
   "name": "python",
   "version": "3.8.2",
   "mimetype": "text/x-python",
   "codemirror_mode": {
    "name": "ipython",
    "version": 3
   },
   "pygments_lexer": "ipython3",
   "nbconvert_exporter": "python",
   "file_extension": ".py"
  },
  "kernelspec": {
   "name": "python3",
   "display_name": "Python 3.8.2 64-bit"
  },
  "interpreter": {
   "hash": "31f2aee4e71d21fbe5cf8b01ff0e069b9275f58929596ceb00d14d90e3e16cd6"
  }
 },
 "nbformat": 4,
 "nbformat_minor": 2
}