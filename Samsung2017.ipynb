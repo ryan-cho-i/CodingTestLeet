{
 "cells": [
  {
   "cell_type": "code",
   "execution_count": null,
   "source": [
    "n = int(input())\n",
    "nums = list(map(int, input().split()))\n",
    "plus, minus, multiple = map(int, input().split())\n",
    "dpMax = [[[0 for _ in range(multiple+1)] for _ in range(minus+1)] for _ in range(plus+1)]\n",
    "dpMin = [[[0 for _ in range(multiple+1)] for _ in range(minus+1)] for _ in range(plus+1)]\n",
    "\n",
    "\n",
    "for p in range(plus+1):\n",
    "    for mi in range(minus+1):\n",
    "        for mul in range(multiple+1):\n",
    "            \n",
    "            idx = p + mi + mul \n",
    "\n",
    "            if idx == 0 :\n",
    "                dpMax[p][mi][mul] = nums[0]\n",
    "                dpMin[p][mi][mul] = nums[0]\n",
    "                continue\n",
    "\n",
    "            if p == 0 :\n",
    "                if mi == 0 :\n",
    "                    dpMax[p][mi][mul] = dpMax[p][mi][mul-1] * nums[idx]\n",
    "                    dpMin[p][mi][mul] = dpMin[p][mi][mul-1] * nums[idx]\n",
    "                elif mul == 0 :\n",
    "                    dpMax[p][mi][mul] = dpMax[p][mi-1][mul] - nums[idx]\n",
    "                    dpMin[p][mi][mul] = dpMin[p][mi-1][mul] - nums[idx]\n",
    "\n",
    "                else: \n",
    "                    dpMax[p][mi][mul] = max(dpMax[p][mi][mul-1] * nums[idx], dpMax[p][mi-1][mul] - nums[idx])\n",
    "                    dpMin[p][mi][mul] = min(dpMin[p][mi][mul-1] * nums[idx], dpMin[p][mi-1][mul] - nums[idx])\n",
    "            else:\n",
    "                if mi == 0 and mul == 0:\n",
    "                    dpMax[p][mi][mul] = dpMax[p-1][mi][mul] + nums[idx]\n",
    "                    dpMin[p][mi][mul] = dpMin[p-1][mi][mul] + nums[idx]\n",
    "                elif mi == 0:\n",
    "                    dpMax[p][mi][mul] = max(dpMax[p][mi][mul-1] * nums[idx], dpMax[p-1][mi][mul] + nums[idx])\n",
    "                    dpMin[p][mi][mul] = min(dpMin[p][mi][mul-1] * nums[idx], dpMin[p-1][mi][mul] + nums[idx])\n",
    "\n",
    "                elif mul == 0 :\n",
    "                    dpMax[p][mi][mul] = max(dpMax[p][mi-1][mul] - nums[idx], dpMax[p-1][mi][mul] + nums[idx])\n",
    "                    dpMin[p][mi][mul] = min(dpMin[p][mi-1][mul] - nums[idx], dpMin[p-1][mi][mul] + nums[idx])\n",
    "                \n",
    "                else:\n",
    "                    dpMax[p][mi][mul] = max(dpMax[p][mi][mul-1] * nums[idx] , dpMax[p-1][mi][mul] + nums[idx] , dpMax[p][mi-1][mul] - nums[idx])\n",
    "                    dpMin[p][mi][mul] = min(dpMin[p][mi][mul-1] * nums[idx] , dpMin[p-1][mi][mul] + nums[idx] , dpMin[p][mi-1][mul] - nums[idx])\n",
    "\n",
    "print(dpMin[plus][minus][multiple], dpMax[plus][minus][multiple])"
   ],
   "outputs": [],
   "metadata": {}
  },
  {
   "cell_type": "code",
   "execution_count": null,
   "source": [],
   "outputs": [],
   "metadata": {}
  },
  {
   "cell_type": "code",
   "execution_count": 37,
   "source": [
    "table1 ='01000011'\n",
    "print(len(table1))\n"
   ],
   "outputs": [
    {
     "output_type": "stream",
     "name": "stdout",
     "text": [
      "8\n"
     ]
    }
   ],
   "metadata": {}
  },
  {
   "cell_type": "code",
   "execution_count": 34,
   "source": [
    "print(table1[-1])\n",
    "print(table1[0:-1])\n",
    "\n",
    "table1 = table1[-1] + table1[0:-1]\n",
    "print(table1)"
   ],
   "outputs": [
    {
     "output_type": "stream",
     "name": "stdout",
     "text": [
      "1\n",
      "0100001\n",
      "10100001\n"
     ]
    }
   ],
   "metadata": {}
  },
  {
   "cell_type": "code",
   "execution_count": 39,
   "source": [
    "table1 = table1[1:] + table1[0]\n"
   ],
   "outputs": [],
   "metadata": {}
  },
  {
   "cell_type": "code",
   "execution_count": 40,
   "source": [
    "table1"
   ],
   "outputs": [
    {
     "output_type": "execute_result",
     "data": {
      "text/plain": [
       "'10000110'"
      ]
     },
     "metadata": {},
     "execution_count": 40
    }
   ],
   "metadata": {}
  },
  {
   "cell_type": "code",
   "execution_count": 26,
   "source": [
    "arr = '012345678'"
   ],
   "outputs": [],
   "metadata": {}
  },
  {
   "cell_type": "code",
   "execution_count": 27,
   "source": [
    "arr[7]"
   ],
   "outputs": [
    {
     "output_type": "execute_result",
     "data": {
      "text/plain": [
       "'7'"
      ]
     },
     "metadata": {},
     "execution_count": 27
    }
   ],
   "metadata": {}
  },
  {
   "cell_type": "code",
   "execution_count": 29,
   "source": [
    "arr[0:-1]"
   ],
   "outputs": [
    {
     "output_type": "execute_result",
     "data": {
      "text/plain": [
       "'01234567'"
      ]
     },
     "metadata": {},
     "execution_count": 29
    }
   ],
   "metadata": {}
  },
  {
   "cell_type": "code",
   "execution_count": 30,
   "source": [
    "arr[0]"
   ],
   "outputs": [
    {
     "output_type": "execute_result",
     "data": {
      "text/plain": [
       "'0'"
      ]
     },
     "metadata": {},
     "execution_count": 30
    }
   ],
   "metadata": {}
  },
  {
   "cell_type": "code",
   "execution_count": 61,
   "source": [
    "arr = [1,2]\n"
   ],
   "outputs": [],
   "metadata": {}
  },
  {
   "cell_type": "code",
   "execution_count": 62,
   "source": [
    "def d ():\n",
    "    arr = "
   ],
   "outputs": [],
   "metadata": {}
  },
  {
   "cell_type": "code",
   "execution_count": 63,
   "source": [
    "arr"
   ],
   "outputs": [
    {
     "output_type": "execute_result",
     "data": {
      "text/plain": [
       "[1, 2]"
      ]
     },
     "metadata": {},
     "execution_count": 63
    }
   ],
   "metadata": {}
  },
  {
   "cell_type": "code",
   "execution_count": 64,
   "source": [
    "d()"
   ],
   "outputs": [],
   "metadata": {}
  },
  {
   "cell_type": "code",
   "execution_count": 65,
   "source": [
    "arr"
   ],
   "outputs": [
    {
     "output_type": "execute_result",
     "data": {
      "text/plain": [
       "[1, 2, 4]"
      ]
     },
     "metadata": {},
     "execution_count": 65
    }
   ],
   "metadata": {}
  },
  {
   "cell_type": "code",
   "execution_count": 216,
   "source": [
    "table1 = list('11100101')\n",
    "table2 = list('01010101')\n",
    "table3 = list('00000100')\n",
    "table4 = list(\"00100011\")\n",
    "k = 1\n",
    "rotations = [[3, -1], [1, 1]]"
   ],
   "outputs": [],
   "metadata": {}
  },
  {
   "cell_type": "code",
   "execution_count": 217,
   "source": [
    "def rotate(start, clockwise):\n",
    "    if start%4 == 1:\n",
    "        if clockwise==1:\n",
    "            table1.insert(0, table1[-1])\n",
    "            table1.pop(-1)\n",
    "        else:\n",
    "            table1.append(table1[0])\n",
    "            table1.pop(0)\n",
    "    if start%4 == 2:\n",
    "        if clockwise==1:\n",
    "            table2.insert(0, table2[-1])\n",
    "            table2.pop(-1)\n",
    "        else:\n",
    "            table2.append(table2[0])\n",
    "            table2.pop(0)\n",
    "    if start%4 == 3:\n",
    "        if clockwise==1:\n",
    "            table3.insert(0, table3[-1])\n",
    "            table3.pop(-1)\n",
    "        else:\n",
    "            table3.append(table3[0])\n",
    "            table3.pop(0)\n",
    "    if start%4 == 0:\n",
    "        if clockwise==1:\n",
    "            table4.insert(0, table4[-1])\n",
    "            table4.pop(-1)\n",
    "        else:\n",
    "            table4.append(table4[0])\n",
    "            table4.pop(0)\n",
    "\n",
    "def select(start, clockwise):\n",
    "\n",
    "    if clockwise == -1 :\n",
    "        clockwise = False\n",
    "    \n",
    "    if table1[2] != table2[6]:\n",
    "        if table2[2] != table3[6]:\n",
    "            if table3[2] != table4[6]:\n",
    "                rotate(start, clockwise)\n",
    "                rotate(start+1, not (clockwise))\n",
    "                rotate(start+2, (clockwise))\n",
    "                rotate(start+3, not (clockwise))\n",
    "            else:\n",
    "                if start == 4:\n",
    "                    rotate(start, clockwise)\n",
    "                else: \n",
    "                    if start == 2:\n",
    "                        rotate(start-1, not (clockwise))\n",
    "                        rotate(start, clockwise)\n",
    "                        rotate(start+1, not (clockwise))\n",
    "                    else:\n",
    "                        rotate(1, clockwise)\n",
    "                        rotate(2, not (clockwise))\n",
    "                        rotate(3, clockwise)\n",
    "        else:\n",
    "            if table3[2] != table4[6]:\n",
    "                if start == 1:\n",
    "                    rotate(1, clockwise)\n",
    "                    rotate(2, not (clockwise))\n",
    "                elif start == 2:\n",
    "                    rotate(2, clockwise)\n",
    "                    rotate(1, not (clockwise))\n",
    "                elif start == 3:\n",
    "                    rotate(3, clockwise)\n",
    "                    rotate(4, not (clockwise))\n",
    "                elif start == 4:\n",
    "                    rotate(4, clockwise)\n",
    "                    rotate(3, not (clockwise))\n",
    "            else:\n",
    "                if start == 1:\n",
    "                    rotate(1, clockwise)\n",
    "                    rotate(2, not (clockwise))\n",
    "                elif start == 2:\n",
    "                    rotate(2, clockwise)\n",
    "                    rotate(1, not (clockwise))\n",
    "                else:\n",
    "                    rotate(start, clockwise)\n",
    "    else:\n",
    "        if table2[2] != table3[6]:\n",
    "            if table3[2] != table4[6]:\n",
    "                if start == 1:\n",
    "                    rotate(start, clockwise)\n",
    "                else: \n",
    "                    if start == 3:\n",
    "                        rotate(start-1, not (clockwise))\n",
    "                        rotate(start, clockwise)\n",
    "                        rotate(start+1, not (clockwise))\n",
    "                    else:\n",
    "                        rotate(2, clockwise)\n",
    "                        rotate(3, not (clockwise))\n",
    "                        rotate(4, clockwise)\n",
    "            else:\n",
    "                if start == 2:\n",
    "                    rotate(2, clockwise)\n",
    "                    rotate(3, not (clockwise))\n",
    "                elif start == 3:\n",
    "                    rotate(3, clockwise)\n",
    "                    rotate(2, not (clockwise))\n",
    "                else:\n",
    "                    rotate(start, clockwise) \n",
    "        else:\n",
    "            if table3[2] != table4[6]:\n",
    "                if start == 3:\n",
    "                    rotate(3, clockwise)\n",
    "                    rotate(4, not (clockwise))\n",
    "                elif start == 4:\n",
    "                    rotate(4, clockwise)\n",
    "                    rotate(3, not (clockwise))\n",
    "                else:\n",
    "                    rotate(start, clockwise) \n",
    "            else:\n",
    "                rotate(start, clockwise)\n",
    "\n"
   ],
   "outputs": [],
   "metadata": {}
  },
  {
   "cell_type": "code",
   "execution_count": 210,
   "source": [
    "print(table1)\n",
    "print(table2)\n",
    "print(table3)\n",
    "print(table4)"
   ],
   "outputs": [
    {
     "output_type": "stream",
     "name": "stdout",
     "text": [
      "['1', '1', '1', '0', '0', '1', '0', '1']\n",
      "['0', '1', '0', '1', '0', '1', '0', '1']\n",
      "['0', '0', '0', '0', '0', '1', '0', '0']\n",
      "['0', '0', '1', '0', '0', '0', '1', '1']\n"
     ]
    }
   ],
   "metadata": {}
  },
  {
   "cell_type": "code",
   "execution_count": 211,
   "source": [
    "for table, clockwise in rotations:\n",
    "    select(table, clockwise)\n",
    "    print (table, clockwise)\n",
    "    print(table1)\n",
    "    print(table2)\n",
    "    print(table3)\n",
    "    print(table4)\n",
    "    print()"
   ],
   "outputs": [
    {
     "output_type": "stream",
     "name": "stdout",
     "text": [
      "j\n",
      "3 -1\n",
      "['1', '1', '1', '0', '0', '1', '0', '1']\n",
      "['0', '1', '0', '1', '0', '1', '0', '1']\n",
      "['0', '0', '0', '0', '1', '0', '0', '0']\n",
      "['0', '1', '0', '0', '0', '1', '1', '0']\n",
      "\n",
      "j\n",
      "1 1\n",
      "['1', '1', '1', '1', '0', '0', '1', '0']\n",
      "['1', '0', '1', '0', '1', '0', '1', '0']\n",
      "['0', '0', '0', '0', '1', '0', '0', '0']\n",
      "['0', '1', '0', '0', '0', '1', '1', '0']\n",
      "\n"
     ]
    }
   ],
   "metadata": {}
  },
  {
   "cell_type": "code",
   "execution_count": 191,
   "source": [
    "# table1 = list('01000011')\n",
    "# table2 = list('01100010')\n",
    "# table3 = list('11100000')\n",
    "# table4 = list(\"01000110\")"
   ],
   "outputs": [],
   "metadata": {}
  },
  {
   "cell_type": "code",
   "execution_count": 192,
   "source": [
    "table1"
   ],
   "outputs": [
    {
     "output_type": "execute_result",
     "data": {
      "text/plain": [
       "['1', '0', '1', '0', '0', '0', '0', '1']"
      ]
     },
     "metadata": {},
     "execution_count": 192
    }
   ],
   "metadata": {}
  },
  {
   "cell_type": "code",
   "execution_count": 193,
   "source": [
    "table2"
   ],
   "outputs": [
    {
     "output_type": "execute_result",
     "data": {
      "text/plain": [
       "['1', '1', '0', '0', '0', '1', '0', '0']"
      ]
     },
     "metadata": {},
     "execution_count": 193
    }
   ],
   "metadata": {}
  },
  {
   "cell_type": "code",
   "execution_count": 194,
   "source": [
    "table3"
   ],
   "outputs": [
    {
     "output_type": "execute_result",
     "data": {
      "text/plain": [
       "['0', '1', '1', '1', '0', '0', '0', '0']"
      ]
     },
     "metadata": {},
     "execution_count": 194
    }
   ],
   "metadata": {}
  },
  {
   "cell_type": "code",
   "execution_count": 195,
   "source": [
    "table4"
   ],
   "outputs": [
    {
     "output_type": "execute_result",
     "data": {
      "text/plain": [
       "['0', '1', '0', '0', '0', '1', '1', '0']"
      ]
     },
     "metadata": {},
     "execution_count": 195
    }
   ],
   "metadata": {}
  },
  {
   "cell_type": "code",
   "execution_count": 196,
   "source": [
    "print(int(table1[0])+ 2*int(table2[0]) + 4*int(table3[0]) + 8*int(table4[0]))"
   ],
   "outputs": [
    {
     "output_type": "stream",
     "name": "stdout",
     "text": [
      "3\n"
     ]
    }
   ],
   "metadata": {}
  },
  {
   "cell_type": "code",
   "execution_count": 1,
   "source": [
    "arr1 = [1,2,3]\n",
    "arr2 = [4,5,6]\n",
    "arr3 = [7,8,9]\n",
    "arr = [arr1, arr2, arr3]"
   ],
   "outputs": [],
   "metadata": {}
  },
  {
   "cell_type": "code",
   "execution_count": 8,
   "source": [
    "ans = []\n",
    "result = []\n",
    "def dfs (idx):\n",
    "    if len(arr) == idx:\n",
    "        ans.append(result.copy())\n",
    "        return \n",
    "        \n",
    "    for element in arr[idx]:\n",
    "        result.append(element)\n",
    "        dfs(idx+1)\n",
    "        result.pop()"
   ],
   "outputs": [],
   "metadata": {}
  },
  {
   "cell_type": "code",
   "execution_count": 9,
   "source": [
    "dfs(0)"
   ],
   "outputs": [],
   "metadata": {}
  },
  {
   "cell_type": "code",
   "execution_count": 10,
   "source": [
    "print(ans)"
   ],
   "outputs": [
    {
     "output_type": "stream",
     "name": "stdout",
     "text": [
      "[[1, 4, 7], [1, 4, 8], [1, 4, 9], [1, 5, 7], [1, 5, 8], [1, 5, 9], [1, 6, 7], [1, 6, 8], [1, 6, 9], [2, 4, 7], [2, 4, 8], [2, 4, 9], [2, 5, 7], [2, 5, 8], [2, 5, 9], [2, 6, 7], [2, 6, 8], [2, 6, 9], [3, 4, 7], [3, 4, 8], [3, 4, 9], [3, 5, 7], [3, 5, 8], [3, 5, 9], [3, 6, 7], [3, 6, 8], [3, 6, 9]]\n"
     ]
    }
   ],
   "metadata": {}
  },
  {
   "cell_type": "code",
   "execution_count": 11,
   "source": [
    "print(\"res\" + \"and\")"
   ],
   "outputs": [
    {
     "output_type": "stream",
     "name": "stdout",
     "text": [
      "resand\n"
     ]
    }
   ],
   "metadata": {}
  },
  {
   "cell_type": "code",
   "execution_count": 14,
   "source": [
    "L = [\"res\", \"and\"]\n",
    "ans = []\n",
    "for i in L:\n",
    "    ans += (i + \"\")\n",
    "    "
   ],
   "outputs": [],
   "metadata": {}
  },
  {
   "cell_type": "code",
   "execution_count": 20,
   "source": [
    "t = \"\"\n",
    "for i in L:\n",
    "    t = t + i + \" \"\n",
    "    print(t)"
   ],
   "outputs": [
    {
     "output_type": "stream",
     "name": "stdout",
     "text": [
      "res \n",
      "res and \n"
     ]
    }
   ],
   "metadata": {}
  },
  {
   "cell_type": "code",
   "execution_count": null,
   "source": [],
   "outputs": [],
   "metadata": {}
  },
  {
   "cell_type": "code",
   "execution_count": 3,
   "source": [
    "nums = [1,2,3]        \n",
    "results = []\n",
    "result = []\n",
    "\n",
    "def dfs (idx):\n",
    "    \n",
    "    if idx == len(nums):\n",
    "        results.append(result.copy())\n",
    "        return\n",
    "        \n",
    "    for i in range(len(nums)):\n",
    "        result.append(nums[i])\n",
    "        dfs(idx+1)\n",
    "        result.pop()\n",
    "\n",
    "dfs(0)\n",
    "\n",
    "print(results)"
   ],
   "outputs": [
    {
     "output_type": "stream",
     "name": "stdout",
     "text": [
      "[[1, 1, 1], [1, 1, 2], [1, 1, 3], [1, 2, 1], [1, 2, 2], [1, 2, 3], [1, 3, 1], [1, 3, 2], [1, 3, 3], [2, 1, 1], [2, 1, 2], [2, 1, 3], [2, 2, 1], [2, 2, 2], [2, 2, 3], [2, 3, 1], [2, 3, 2], [2, 3, 3], [3, 1, 1], [3, 1, 2], [3, 1, 3], [3, 2, 1], [3, 2, 2], [3, 2, 3], [3, 3, 1], [3, 3, 2], [3, 3, 3]]\n"
     ]
    }
   ],
   "metadata": {}
  },
  {
   "cell_type": "code",
   "execution_count": 25,
   "source": [
    "recursion(0)"
   ],
   "outputs": [
    {
     "output_type": "error",
     "ename": "RecursionError",
     "evalue": "maximum recursion depth exceeded in comparison",
     "traceback": [
      "\u001b[0;31m---------------------------------------------------------------------------\u001b[0m",
      "\u001b[0;31mRecursionError\u001b[0m                            Traceback (most recent call last)",
      "\u001b[0;32m/var/folders/xk/hrw3wy1n61lf4xdzyjbzjtj00000gn/T/ipykernel_15312/432572224.py\u001b[0m in \u001b[0;36m<module>\u001b[0;34m\u001b[0m\n\u001b[0;32m----> 1\u001b[0;31m \u001b[0mrecursion\u001b[0m\u001b[0;34m(\u001b[0m\u001b[0;36m0\u001b[0m\u001b[0;34m)\u001b[0m\u001b[0;34m\u001b[0m\u001b[0;34m\u001b[0m\u001b[0m\n\u001b[0m",
      "\u001b[0;32m/var/folders/xk/hrw3wy1n61lf4xdzyjbzjtj00000gn/T/ipykernel_15312/2624901742.py\u001b[0m in \u001b[0;36mrecursion\u001b[0;34m(idx)\u001b[0m\n\u001b[1;32m     11\u001b[0m     \u001b[0;32mfor\u001b[0m \u001b[0mnum\u001b[0m \u001b[0;32min\u001b[0m \u001b[0mrange\u001b[0m\u001b[0;34m(\u001b[0m\u001b[0;36m1\u001b[0m\u001b[0;34m,\u001b[0m\u001b[0mn\u001b[0m\u001b[0;34m+\u001b[0m\u001b[0;36m1\u001b[0m\u001b[0;34m)\u001b[0m\u001b[0;34m:\u001b[0m\u001b[0;34m\u001b[0m\u001b[0;34m\u001b[0m\u001b[0m\n\u001b[1;32m     12\u001b[0m         \u001b[0mresult\u001b[0m\u001b[0;34m.\u001b[0m\u001b[0mappend\u001b[0m\u001b[0;34m(\u001b[0m\u001b[0mnum\u001b[0m\u001b[0;34m)\u001b[0m\u001b[0;34m\u001b[0m\u001b[0;34m\u001b[0m\u001b[0m\n\u001b[0;32m---> 13\u001b[0;31m         \u001b[0mrecursion\u001b[0m \u001b[0;34m(\u001b[0m\u001b[0midx\u001b[0m\u001b[0;34m+\u001b[0m\u001b[0;36m1\u001b[0m\u001b[0;34m)\u001b[0m\u001b[0;34m\u001b[0m\u001b[0;34m\u001b[0m\u001b[0m\n\u001b[0m\u001b[1;32m     14\u001b[0m         \u001b[0mresult\u001b[0m\u001b[0;34m.\u001b[0m\u001b[0mpop\u001b[0m\u001b[0;34m(\u001b[0m\u001b[0;34m)\u001b[0m\u001b[0;34m\u001b[0m\u001b[0;34m\u001b[0m\u001b[0m\n",
      "... last 1 frames repeated, from the frame below ...\n",
      "\u001b[0;32m/var/folders/xk/hrw3wy1n61lf4xdzyjbzjtj00000gn/T/ipykernel_15312/2624901742.py\u001b[0m in \u001b[0;36mrecursion\u001b[0;34m(idx)\u001b[0m\n\u001b[1;32m     11\u001b[0m     \u001b[0;32mfor\u001b[0m \u001b[0mnum\u001b[0m \u001b[0;32min\u001b[0m \u001b[0mrange\u001b[0m\u001b[0;34m(\u001b[0m\u001b[0;36m1\u001b[0m\u001b[0;34m,\u001b[0m\u001b[0mn\u001b[0m\u001b[0;34m+\u001b[0m\u001b[0;36m1\u001b[0m\u001b[0;34m)\u001b[0m\u001b[0;34m:\u001b[0m\u001b[0;34m\u001b[0m\u001b[0;34m\u001b[0m\u001b[0m\n\u001b[1;32m     12\u001b[0m         \u001b[0mresult\u001b[0m\u001b[0;34m.\u001b[0m\u001b[0mappend\u001b[0m\u001b[0;34m(\u001b[0m\u001b[0mnum\u001b[0m\u001b[0;34m)\u001b[0m\u001b[0;34m\u001b[0m\u001b[0;34m\u001b[0m\u001b[0m\n\u001b[0;32m---> 13\u001b[0;31m         \u001b[0mrecursion\u001b[0m \u001b[0;34m(\u001b[0m\u001b[0midx\u001b[0m\u001b[0;34m+\u001b[0m\u001b[0;36m1\u001b[0m\u001b[0;34m)\u001b[0m\u001b[0;34m\u001b[0m\u001b[0;34m\u001b[0m\u001b[0m\n\u001b[0m\u001b[1;32m     14\u001b[0m         \u001b[0mresult\u001b[0m\u001b[0;34m.\u001b[0m\u001b[0mpop\u001b[0m\u001b[0;34m(\u001b[0m\u001b[0;34m)\u001b[0m\u001b[0;34m\u001b[0m\u001b[0;34m\u001b[0m\u001b[0m\n",
      "\u001b[0;31mRecursionError\u001b[0m: maximum recursion depth exceeded in comparison"
     ]
    }
   ],
   "metadata": {}
  },
  {
   "cell_type": "code",
   "execution_count": null,
   "source": [],
   "outputs": [],
   "metadata": {}
  }
 ],
 "metadata": {
  "orig_nbformat": 4,
  "language_info": {
   "name": "python",
   "version": "3.8.2",
   "mimetype": "text/x-python",
   "codemirror_mode": {
    "name": "ipython",
    "version": 3
   },
   "pygments_lexer": "ipython3",
   "nbconvert_exporter": "python",
   "file_extension": ".py"
  },
  "kernelspec": {
   "name": "python3",
   "display_name": "Python 3.8.2 64-bit"
  },
  "interpreter": {
   "hash": "31f2aee4e71d21fbe5cf8b01ff0e069b9275f58929596ceb00d14d90e3e16cd6"
  }
 },
 "nbformat": 4,
 "nbformat_minor": 2
}