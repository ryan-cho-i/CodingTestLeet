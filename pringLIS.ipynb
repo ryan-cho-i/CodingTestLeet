{
 "cells": [
  {
   "cell_type": "code",
   "execution_count": 4,
   "source": [
    "nums = [10,9,2,5,3,7,101,18]\n",
    "n = len(nums)"
   ],
   "outputs": [],
   "metadata": {}
  },
  {
   "cell_type": "code",
   "execution_count": 2,
   "source": [
    "@cache\n",
    "def lis (idx):\n",
    "    ans = 0\n",
    "    for i in range(idx+1, n):\n",
    "        if nums[idx] < nums[i]:\n",
    "            ans = max (ans, lis(i)+1)\n",
    "    return ans"
   ],
   "outputs": [
    {
     "output_type": "error",
     "ename": "SyntaxError",
     "evalue": "invalid syntax (2904934351.py, line 5)",
     "traceback": [
      "\u001b[0;36m  File \u001b[0;32m\"/var/folders/xk/hrw3wy1n61lf4xdzyjbzjtj00000gn/T/ipykernel_11081/2904934351.py\"\u001b[0;36m, line \u001b[0;32m5\u001b[0m\n\u001b[0;31m    for i in range(idx+,):\u001b[0m\n\u001b[0m                       ^\u001b[0m\n\u001b[0;31mSyntaxError\u001b[0m\u001b[0;31m:\u001b[0m invalid syntax\n"
     ]
    }
   ],
   "metadata": {}
  },
  {
   "cell_type": "code",
   "execution_count": null,
   "source": [
    "res = max(lis(i) for i in range(n))"
   ],
   "outputs": [],
   "metadata": {}
  }
 ],
 "metadata": {
  "orig_nbformat": 4,
  "language_info": {
   "name": "python",
   "version": "3.8.2",
   "mimetype": "text/x-python",
   "codemirror_mode": {
    "name": "ipython",
    "version": 3
   },
   "pygments_lexer": "ipython3",
   "nbconvert_exporter": "python",
   "file_extension": ".py"
  },
  "kernelspec": {
   "name": "python3",
   "display_name": "Python 3.8.2 64-bit"
  },
  "interpreter": {
   "hash": "31f2aee4e71d21fbe5cf8b01ff0e069b9275f58929596ceb00d14d90e3e16cd6"
  }
 },
 "nbformat": 4,
 "nbformat_minor": 2
}