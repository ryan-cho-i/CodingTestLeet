{
 "cells": [
  {
   "cell_type": "code",
   "execution_count": 1,
   "source": [
    "needle = 'abcdabe'"
   ],
   "outputs": [],
   "metadata": {}
  },
  {
   "cell_type": "code",
   "execution_count": 2,
   "source": [
    "n = len(needle)\n",
    "pi = [0 for _ in range(n)]\n",
    "begin = 1 \n",
    "matched = 0\n",
    "while begin + matched < n :\n",
    "    if needle[begin+matched] == needle[matched]:\n",
    "        matched += 1 \n",
    "        pi[begin + matched -1] = matched\n",
    "    else:\n",
    "        if matched == 0:\n",
    "            begin += 1 \n",
    "        else :\n",
    "            begin = matched - pi[matched-1]\n",
    "            matched = pi[matched -1]\n"
   ],
   "outputs": [],
   "metadata": {}
  },
  {
   "cell_type": "code",
   "execution_count": null,
   "source": [],
   "outputs": [],
   "metadata": {}
  }
 ],
 "metadata": {
  "orig_nbformat": 4,
  "language_info": {
   "name": "python",
   "version": "3.10.6",
   "mimetype": "text/x-python",
   "codemirror_mode": {
    "name": "ipython",
    "version": 3
   },
   "pygments_lexer": "ipython3",
   "nbconvert_exporter": "python",
   "file_extension": ".py"
  },
  "kernelspec": {
   "name": "python3",
   "display_name": "Python 3.10.6 64-bit"
  },
  "interpreter": {
   "hash": "aee8b7b246df8f9039afb4144a1f6fd8d2ca17a180786b69acc140d282b71a49"
  }
 },
 "nbformat": 4,
 "nbformat_minor": 2
}