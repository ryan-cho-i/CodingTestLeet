{
 "cells": [
  {
   "cell_type": "code",
   "execution_count": 5,
   "source": [
    "def getPartialMatch(N):\n",
    "    m = len(N)\n",
    "    pi = [0 for _ in range(m)]\n",
    "    begin = 1 \n",
    "    matched = 0\n",
    "    while (begin+matched < m):\n",
    "        if N[begin+matched] == N[matched]:\n",
    "            matched += 1 \n",
    "            pi[begin + matched -1] = matched\n",
    "        else:\n",
    "            if (matched==0):\n",
    "                begin += 1\n",
    "            else:\n",
    "                begin += matched - pi[matched-1]\n",
    "                matched = pi [matched-1]\n",
    "    return pi\n",
    "    \n"
   ],
   "outputs": [],
   "metadata": {}
  },
  {
   "cell_type": "code",
   "execution_count": 6,
   "source": [
    "N = 'aabaabac'"
   ],
   "outputs": [],
   "metadata": {}
  },
  {
   "cell_type": "code",
   "execution_count": 7,
   "source": [
    "pi = getPartialMatch(N)"
   ],
   "outputs": [],
   "metadata": {}
  },
  {
   "cell_type": "code",
   "execution_count": 8,
   "source": [
    "pi"
   ],
   "outputs": [
    {
     "output_type": "execute_result",
     "data": {
      "text/plain": [
       "[0, 1, 0, 1, 2, 3, 4, 0]"
      ]
     },
     "metadata": {},
     "execution_count": 8
    }
   ],
   "metadata": {}
  },
  {
   "cell_type": "code",
   "execution_count": null,
   "source": [],
   "outputs": [],
   "metadata": {}
  }
 ],
 "metadata": {
  "orig_nbformat": 4,
  "language_info": {
   "name": "python",
   "version": "3.10.6",
   "mimetype": "text/x-python",
   "codemirror_mode": {
    "name": "ipython",
    "version": 3
   },
   "pygments_lexer": "ipython3",
   "nbconvert_exporter": "python",
   "file_extension": ".py"
  },
  "kernelspec": {
   "name": "python3",
   "display_name": "Python 3.10.6 64-bit"
  },
  "interpreter": {
   "hash": "aee8b7b246df8f9039afb4144a1f6fd8d2ca17a180786b69acc140d282b71a49"
  }
 },
 "nbformat": 4,
 "nbformat_minor": 2
}