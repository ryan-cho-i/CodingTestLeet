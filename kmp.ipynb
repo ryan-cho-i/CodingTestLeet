{
 "cells": [
  {
   "cell_type": "code",
   "execution_count": 13,
   "source": [
    "pat = 'abbaeabbaf'"
   ],
   "outputs": [],
   "metadata": {}
  },
  {
   "cell_type": "code",
   "execution_count": 12,
   "source": [
    "leng = 0  # length of the previous longest prefix suffix\n",
    "n = len(pat)\n",
    "lps = [0 for _ in range(n)]\n",
    "\n",
    "# 항상 lps[0]==0이므로 while문은 i==1부터 시작한다.\n",
    "i = 1\n",
    "while i < len(pat):\n",
    "    # 이전 인덱스에서 같았다면 다음 인덱스만 비교하면 된다.\n",
    "    print(pat[i], pat[leng])\n",
    "    if pat[i] == pat[leng]:\n",
    "        \n",
    "        leng += 1\n",
    "        lps[i] = leng\n",
    "        i += 1\n",
    "        print(i, leng, lps)\n",
    "\n",
    "    else:\n",
    "        # 일치하지 않는 경우\n",
    "        if leng != 0:\n",
    "            print(i, leng, lps[leng-1], lps)\n",
    "            # 이전 인덱스에서는 같았으므로 leng을 줄여서 다시 검사\n",
    "            leng = lps[leng-1]\n",
    "            \n",
    "        else:\n",
    "            # 이전 인덱스에서도 같지 않았다면 lps[i]는 0 이고 i는 1 증가\n",
    "            lps[i] = 0\n",
    "            i += 1\n",
    "            print(i, leng, lps)"
   ],
   "outputs": [
    {
     "output_type": "stream",
     "name": "stdout",
     "text": [
      "b a\n",
      "2 0 [0, 0, 0, 0, 0, 0, 0]\n",
      "c a\n",
      "3 0 [0, 0, 0, 0, 0, 0, 0]\n",
      "d a\n",
      "4 0 [0, 0, 0, 0, 0, 0, 0]\n",
      "a a\n",
      "5 1 [0, 0, 0, 0, 1, 0, 0]\n",
      "b b\n",
      "6 2 [0, 0, 0, 0, 1, 2, 0]\n",
      "e c\n",
      "6 2 0 [0, 0, 0, 0, 1, 2, 0]\n",
      "e a\n",
      "7 0 [0, 0, 0, 0, 1, 2, 0]\n"
     ]
    }
   ],
   "metadata": {}
  },
  {
   "cell_type": "code",
   "execution_count": null,
   "source": [],
   "outputs": [],
   "metadata": {}
  },
  {
   "cell_type": "code",
   "execution_count": null,
   "source": [],
   "outputs": [],
   "metadata": {}
  }
 ],
 "metadata": {
  "orig_nbformat": 4,
  "language_info": {
   "name": "python",
   "version": "3.10.6",
   "mimetype": "text/x-python",
   "codemirror_mode": {
    "name": "ipython",
    "version": 3
   },
   "pygments_lexer": "ipython3",
   "nbconvert_exporter": "python",
   "file_extension": ".py"
  },
  "kernelspec": {
   "name": "python3",
   "display_name": "Python 3.10.6 64-bit"
  },
  "interpreter": {
   "hash": "aee8b7b246df8f9039afb4144a1f6fd8d2ca17a180786b69acc140d282b71a49"
  }
 },
 "nbformat": 4,
 "nbformat_minor": 2
}